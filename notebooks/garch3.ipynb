{
 "cells": [
  {
   "cell_type": "markdown",
   "metadata": {},
   "source": [
    "### Compare fits for pct_high, pct_low, ... etc"
   ]
  },
  {
   "cell_type": "markdown",
   "metadata": {
    "collapsed": false,
    "jupyter": {
     "outputs_hidden": false
    },
    "pycharm": {
     "name": "#%% md\n"
    }
   },
   "source": [
    "#### 'Disabling' numba has no effect\n",
    "import os\n",
    "check = os.environ.get(\"ARCH_DISABLE_NUMBA\", True)"
   ]
  },
  {
   "cell_type": "code",
   "metadata": {
    "pycharm": {
     "name": "#%%\n"
    },
    "ExecuteTime": {
     "end_time": "2024-08-29T18:15:53.249178Z",
     "start_time": "2024-08-29T18:15:53.242866Z"
    }
   },
   "source": [
    "from sqlalchemy import create_engine\n",
    "engine = create_engine('mysql+pymysql://localhost',\n",
    "                       connect_args={'read_default_file': '~/.myuseq.cnf'})\n",
    "conn = engine.connect()"
   ],
   "outputs": [],
   "execution_count": 107
  },
  {
   "cell_type": "markdown",
   "metadata": {},
   "source": "Get List of Tickers from SandP 500. Returned as DataFrame tdf"
  },
  {
   "cell_type": "code",
   "metadata": {
    "ExecuteTime": {
     "end_time": "2024-08-29T18:15:53.263545Z",
     "start_time": "2024-08-29T18:15:53.259789Z"
    }
   },
   "source": [
    "# Limit number of stocks for testing\n",
    "num_stocks=\"50\"\n",
    "\n",
    "import pandas as pd\n",
    "tck_qry = pd.read_sql_query('''select symbol from SandP500 limit ''' + num_stocks,\n",
    "                            conn)\n",
    "tdf = pd.DataFrame(tck_qry, columns=['symbol'])\n",
    "tickers = tdf['symbol']\n",
    "prices = [\"pct_open\", \"pct_high\", \"pct_low\", \"pct_close\",\n",
    "          'pct_hilo', 'pct_opclo']\n",
    "#prices = [\"pct_hilo\"]"
   ],
   "outputs": [],
   "execution_count": 108
  },
  {
   "cell_type": "markdown",
   "metadata": {},
   "source": [
    "#### Get Timeseries for tickers, price types \n",
    "##### Query Function"
   ]
  },
  {
   "cell_type": "code",
   "metadata": {
    "ExecuteTime": {
     "end_time": "2024-08-29T18:15:53.269812Z",
     "start_time": "2024-08-29T18:15:53.266932Z"
    }
   },
   "source": [
    "def query_symbol(sym, conn):\n",
    "    qry = pd.read_sql_query(\n",
    "        '''select tradedate, pct_open, pct_high, pct_low, pct_close,\n",
    "         pct_hilo, pct_opclo from USEQ_HIST\n",
    "        where symbol=\"''' + sym + '''\"\n",
    "        and volume>0\n",
    "         order by tradedate''',\n",
    "        conn,\n",
    "        index_col='tradedate'\n",
    "    )\n",
    "    return sym, pd.DataFrame(qry, columns=prices)"
   ],
   "outputs": [],
   "execution_count": 109
  },
  {
   "cell_type": "code",
   "metadata": {
    "ExecuteTime": {
     "end_time": "2024-08-29T18:15:53.272662Z",
     "start_time": "2024-08-29T18:15:53.270719Z"
    }
   },
   "source": [
    "import math\n",
    "def ann_var(var):\n",
    "    return (math.sqrt((var)*252))"
   ],
   "outputs": [],
   "execution_count": 110
  },
  {
   "cell_type": "code",
   "metadata": {
    "ExecuteTime": {
     "end_time": "2024-08-29T18:15:53.275344Z",
     "start_time": "2024-08-29T18:15:53.273569Z"
    }
   },
   "source": "from arch import arch_model",
   "outputs": [],
   "execution_count": 111
  },
  {
   "cell_type": "code",
   "metadata": {
    "ExecuteTime": {
     "end_time": "2024-08-29T18:15:53.280448Z",
     "start_time": "2024-08-29T18:15:53.276287Z"
    }
   },
   "source": [
    "def calc_arch(ticks,prices,conn):\n",
    "    rows = []\n",
    "    #tickers=pd.concat([pd.Series(data='DFS'), tickers])\n",
    "    for tk in ticks:\n",
    "        ticker, df = query_symbol(tk, conn)\n",
    "        for pr in prices:\n",
    "            if(len(df.index)<800):\n",
    "                continue\n",
    "        \n",
    "            am = arch_model(df[pr], p=1, o=1, q=1, dist=\"Studentst\", rescale=False)\n",
    "            res = am.fit(disp='off')\n",
    "            if res.convergence_flag != 0:\n",
    "                continue\n",
    "            forecasts = res.forecast(reindex=False)\n",
    "            row = [tk, pr, res.loglikelihood, ann_var(forecasts.variance['h.1'].iloc[0])\n",
    "               ,forecasts.mean['h.1'].iloc[0], res.nobs]\n",
    "            rows.append(row)\n",
    "    return rows\n",
    " "
   ],
   "outputs": [],
   "execution_count": 112
  },
  {
   "metadata": {
    "ExecuteTime": {
     "end_time": "2024-08-29T18:16:06.251333Z",
     "start_time": "2024-08-29T18:15:53.281278Z"
    }
   },
   "cell_type": "code",
   "source": [
    "  \n",
    "# rows -> DataFrame cmp\n",
    "cmp = pd.DataFrame(calc_arch(tickers, prices, conn), columns=['ticker', 'price', 'lhood', 'volatilty', 'mean', 'nobs'])\n",
    "\n",
    "compare = cmp.set_index(['ticker','price'])\n",
    "compare.head(36)"
   ],
   "outputs": [
    {
     "data": {
      "text/plain": [
       "                         lhood  volatilty      mean  nobs\n",
       "ticker price                                             \n",
       "MMM    pct_open   -9602.009768  70.610901  0.045586  5913\n",
       "       pct_high   -8852.732338  69.577244  0.044612  5913\n",
       "       pct_low    -9320.424555  74.167059  0.041254  5913\n",
       "       pct_close  -9740.528438  71.468202  0.047788  5913\n",
       "       pct_hilo   -7150.874090  13.102290  1.414492  5913\n",
       "       pct_opclo  -8695.698888  16.212439 -0.037954  5913\n",
       "AOS    pct_open  -11672.626793  82.613553  0.074756  5913\n",
       "       pct_high  -11086.374575  65.049377  0.076329  5913\n",
       "       pct_low   -11358.452976  86.151895  0.060529  5913\n",
       "       pct_close -11794.732648  81.313968  0.066858  5913\n",
       "       pct_hilo   -9622.962976  15.054936  1.974305  5913\n",
       "       pct_opclo -11013.394574  18.854694 -0.024371  5913\n",
       "ABT    pct_open   -9853.840805  24.881758  0.029805  5913\n",
       "       pct_high   -8981.622468  19.492822  0.047562  5913\n",
       "       pct_low    -9464.054729  24.639308  0.026431  5913\n",
       "       pct_close  -9836.339486  19.832400  0.040485  5913\n",
       "       pct_hilo   -7466.176311  12.976763  1.513893  5913\n",
       "       pct_opclo  -9100.528210  17.078480 -0.041279  5913\n",
       "ABBV   pct_open   -5184.456609  34.313182  0.109137  2896\n",
       "       pct_high   -4884.141642  31.559969  0.094619  2896\n",
       "       pct_low    -5100.278472  29.163942  0.110934  2896\n",
       "       pct_close  -5181.099469  29.517269  0.103121  2896\n",
       "       pct_hilo   -3967.389689  13.481735  1.759795  2896\n",
       "       pct_opclo  -4785.068775  19.978050 -0.079011  2896\n",
       "ACN    pct_open  -10600.042278  71.624330  0.079417  5776\n",
       "       pct_high   -9888.871092  64.622624  0.079754  5776\n",
       "       pct_low   -10313.450604  50.210755  0.083778  5776\n",
       "       pct_close -10576.212487  57.166878  0.080223  5776\n",
       "       pct_hilo   -8462.996734  18.288022  1.598204  5776\n",
       "       pct_opclo  -9657.422968  21.687194 -0.112120  5776\n",
       "ATVI   pct_open   -2961.005140  20.019963  0.080261  1510\n",
       "       pct_high   -2769.573511  19.436251  0.074987  1510\n",
       "       pct_low    -2838.452198  21.005279  0.082139  1510\n",
       "       pct_close  -2962.961390  18.316723  0.068946  1510\n",
       "       pct_hilo   -2415.525733  24.556040  2.105608  1510\n",
       "       pct_opclo  -2734.044536  14.117557 -0.000395  1510"
      ],
      "text/html": [
       "<div>\n",
       "<style scoped>\n",
       "    .dataframe tbody tr th:only-of-type {\n",
       "        vertical-align: middle;\n",
       "    }\n",
       "\n",
       "    .dataframe tbody tr th {\n",
       "        vertical-align: top;\n",
       "    }\n",
       "\n",
       "    .dataframe thead th {\n",
       "        text-align: right;\n",
       "    }\n",
       "</style>\n",
       "<table border=\"1\" class=\"dataframe\">\n",
       "  <thead>\n",
       "    <tr style=\"text-align: right;\">\n",
       "      <th></th>\n",
       "      <th></th>\n",
       "      <th>lhood</th>\n",
       "      <th>volatilty</th>\n",
       "      <th>mean</th>\n",
       "      <th>nobs</th>\n",
       "    </tr>\n",
       "    <tr>\n",
       "      <th>ticker</th>\n",
       "      <th>price</th>\n",
       "      <th></th>\n",
       "      <th></th>\n",
       "      <th></th>\n",
       "      <th></th>\n",
       "    </tr>\n",
       "  </thead>\n",
       "  <tbody>\n",
       "    <tr>\n",
       "      <th rowspan=\"6\" valign=\"top\">MMM</th>\n",
       "      <th>pct_open</th>\n",
       "      <td>-9602.009768</td>\n",
       "      <td>70.610901</td>\n",
       "      <td>0.045586</td>\n",
       "      <td>5913</td>\n",
       "    </tr>\n",
       "    <tr>\n",
       "      <th>pct_high</th>\n",
       "      <td>-8852.732338</td>\n",
       "      <td>69.577244</td>\n",
       "      <td>0.044612</td>\n",
       "      <td>5913</td>\n",
       "    </tr>\n",
       "    <tr>\n",
       "      <th>pct_low</th>\n",
       "      <td>-9320.424555</td>\n",
       "      <td>74.167059</td>\n",
       "      <td>0.041254</td>\n",
       "      <td>5913</td>\n",
       "    </tr>\n",
       "    <tr>\n",
       "      <th>pct_close</th>\n",
       "      <td>-9740.528438</td>\n",
       "      <td>71.468202</td>\n",
       "      <td>0.047788</td>\n",
       "      <td>5913</td>\n",
       "    </tr>\n",
       "    <tr>\n",
       "      <th>pct_hilo</th>\n",
       "      <td>-7150.874090</td>\n",
       "      <td>13.102290</td>\n",
       "      <td>1.414492</td>\n",
       "      <td>5913</td>\n",
       "    </tr>\n",
       "    <tr>\n",
       "      <th>pct_opclo</th>\n",
       "      <td>-8695.698888</td>\n",
       "      <td>16.212439</td>\n",
       "      <td>-0.037954</td>\n",
       "      <td>5913</td>\n",
       "    </tr>\n",
       "    <tr>\n",
       "      <th rowspan=\"6\" valign=\"top\">AOS</th>\n",
       "      <th>pct_open</th>\n",
       "      <td>-11672.626793</td>\n",
       "      <td>82.613553</td>\n",
       "      <td>0.074756</td>\n",
       "      <td>5913</td>\n",
       "    </tr>\n",
       "    <tr>\n",
       "      <th>pct_high</th>\n",
       "      <td>-11086.374575</td>\n",
       "      <td>65.049377</td>\n",
       "      <td>0.076329</td>\n",
       "      <td>5913</td>\n",
       "    </tr>\n",
       "    <tr>\n",
       "      <th>pct_low</th>\n",
       "      <td>-11358.452976</td>\n",
       "      <td>86.151895</td>\n",
       "      <td>0.060529</td>\n",
       "      <td>5913</td>\n",
       "    </tr>\n",
       "    <tr>\n",
       "      <th>pct_close</th>\n",
       "      <td>-11794.732648</td>\n",
       "      <td>81.313968</td>\n",
       "      <td>0.066858</td>\n",
       "      <td>5913</td>\n",
       "    </tr>\n",
       "    <tr>\n",
       "      <th>pct_hilo</th>\n",
       "      <td>-9622.962976</td>\n",
       "      <td>15.054936</td>\n",
       "      <td>1.974305</td>\n",
       "      <td>5913</td>\n",
       "    </tr>\n",
       "    <tr>\n",
       "      <th>pct_opclo</th>\n",
       "      <td>-11013.394574</td>\n",
       "      <td>18.854694</td>\n",
       "      <td>-0.024371</td>\n",
       "      <td>5913</td>\n",
       "    </tr>\n",
       "    <tr>\n",
       "      <th rowspan=\"6\" valign=\"top\">ABT</th>\n",
       "      <th>pct_open</th>\n",
       "      <td>-9853.840805</td>\n",
       "      <td>24.881758</td>\n",
       "      <td>0.029805</td>\n",
       "      <td>5913</td>\n",
       "    </tr>\n",
       "    <tr>\n",
       "      <th>pct_high</th>\n",
       "      <td>-8981.622468</td>\n",
       "      <td>19.492822</td>\n",
       "      <td>0.047562</td>\n",
       "      <td>5913</td>\n",
       "    </tr>\n",
       "    <tr>\n",
       "      <th>pct_low</th>\n",
       "      <td>-9464.054729</td>\n",
       "      <td>24.639308</td>\n",
       "      <td>0.026431</td>\n",
       "      <td>5913</td>\n",
       "    </tr>\n",
       "    <tr>\n",
       "      <th>pct_close</th>\n",
       "      <td>-9836.339486</td>\n",
       "      <td>19.832400</td>\n",
       "      <td>0.040485</td>\n",
       "      <td>5913</td>\n",
       "    </tr>\n",
       "    <tr>\n",
       "      <th>pct_hilo</th>\n",
       "      <td>-7466.176311</td>\n",
       "      <td>12.976763</td>\n",
       "      <td>1.513893</td>\n",
       "      <td>5913</td>\n",
       "    </tr>\n",
       "    <tr>\n",
       "      <th>pct_opclo</th>\n",
       "      <td>-9100.528210</td>\n",
       "      <td>17.078480</td>\n",
       "      <td>-0.041279</td>\n",
       "      <td>5913</td>\n",
       "    </tr>\n",
       "    <tr>\n",
       "      <th rowspan=\"6\" valign=\"top\">ABBV</th>\n",
       "      <th>pct_open</th>\n",
       "      <td>-5184.456609</td>\n",
       "      <td>34.313182</td>\n",
       "      <td>0.109137</td>\n",
       "      <td>2896</td>\n",
       "    </tr>\n",
       "    <tr>\n",
       "      <th>pct_high</th>\n",
       "      <td>-4884.141642</td>\n",
       "      <td>31.559969</td>\n",
       "      <td>0.094619</td>\n",
       "      <td>2896</td>\n",
       "    </tr>\n",
       "    <tr>\n",
       "      <th>pct_low</th>\n",
       "      <td>-5100.278472</td>\n",
       "      <td>29.163942</td>\n",
       "      <td>0.110934</td>\n",
       "      <td>2896</td>\n",
       "    </tr>\n",
       "    <tr>\n",
       "      <th>pct_close</th>\n",
       "      <td>-5181.099469</td>\n",
       "      <td>29.517269</td>\n",
       "      <td>0.103121</td>\n",
       "      <td>2896</td>\n",
       "    </tr>\n",
       "    <tr>\n",
       "      <th>pct_hilo</th>\n",
       "      <td>-3967.389689</td>\n",
       "      <td>13.481735</td>\n",
       "      <td>1.759795</td>\n",
       "      <td>2896</td>\n",
       "    </tr>\n",
       "    <tr>\n",
       "      <th>pct_opclo</th>\n",
       "      <td>-4785.068775</td>\n",
       "      <td>19.978050</td>\n",
       "      <td>-0.079011</td>\n",
       "      <td>2896</td>\n",
       "    </tr>\n",
       "    <tr>\n",
       "      <th rowspan=\"6\" valign=\"top\">ACN</th>\n",
       "      <th>pct_open</th>\n",
       "      <td>-10600.042278</td>\n",
       "      <td>71.624330</td>\n",
       "      <td>0.079417</td>\n",
       "      <td>5776</td>\n",
       "    </tr>\n",
       "    <tr>\n",
       "      <th>pct_high</th>\n",
       "      <td>-9888.871092</td>\n",
       "      <td>64.622624</td>\n",
       "      <td>0.079754</td>\n",
       "      <td>5776</td>\n",
       "    </tr>\n",
       "    <tr>\n",
       "      <th>pct_low</th>\n",
       "      <td>-10313.450604</td>\n",
       "      <td>50.210755</td>\n",
       "      <td>0.083778</td>\n",
       "      <td>5776</td>\n",
       "    </tr>\n",
       "    <tr>\n",
       "      <th>pct_close</th>\n",
       "      <td>-10576.212487</td>\n",
       "      <td>57.166878</td>\n",
       "      <td>0.080223</td>\n",
       "      <td>5776</td>\n",
       "    </tr>\n",
       "    <tr>\n",
       "      <th>pct_hilo</th>\n",
       "      <td>-8462.996734</td>\n",
       "      <td>18.288022</td>\n",
       "      <td>1.598204</td>\n",
       "      <td>5776</td>\n",
       "    </tr>\n",
       "    <tr>\n",
       "      <th>pct_opclo</th>\n",
       "      <td>-9657.422968</td>\n",
       "      <td>21.687194</td>\n",
       "      <td>-0.112120</td>\n",
       "      <td>5776</td>\n",
       "    </tr>\n",
       "    <tr>\n",
       "      <th rowspan=\"6\" valign=\"top\">ATVI</th>\n",
       "      <th>pct_open</th>\n",
       "      <td>-2961.005140</td>\n",
       "      <td>20.019963</td>\n",
       "      <td>0.080261</td>\n",
       "      <td>1510</td>\n",
       "    </tr>\n",
       "    <tr>\n",
       "      <th>pct_high</th>\n",
       "      <td>-2769.573511</td>\n",
       "      <td>19.436251</td>\n",
       "      <td>0.074987</td>\n",
       "      <td>1510</td>\n",
       "    </tr>\n",
       "    <tr>\n",
       "      <th>pct_low</th>\n",
       "      <td>-2838.452198</td>\n",
       "      <td>21.005279</td>\n",
       "      <td>0.082139</td>\n",
       "      <td>1510</td>\n",
       "    </tr>\n",
       "    <tr>\n",
       "      <th>pct_close</th>\n",
       "      <td>-2962.961390</td>\n",
       "      <td>18.316723</td>\n",
       "      <td>0.068946</td>\n",
       "      <td>1510</td>\n",
       "    </tr>\n",
       "    <tr>\n",
       "      <th>pct_hilo</th>\n",
       "      <td>-2415.525733</td>\n",
       "      <td>24.556040</td>\n",
       "      <td>2.105608</td>\n",
       "      <td>1510</td>\n",
       "    </tr>\n",
       "    <tr>\n",
       "      <th>pct_opclo</th>\n",
       "      <td>-2734.044536</td>\n",
       "      <td>14.117557</td>\n",
       "      <td>-0.000395</td>\n",
       "      <td>1510</td>\n",
       "    </tr>\n",
       "  </tbody>\n",
       "</table>\n",
       "</div>"
      ]
     },
     "execution_count": 113,
     "metadata": {},
     "output_type": "execute_result"
    }
   ],
   "execution_count": 113
  },
  {
   "cell_type": "code",
   "metadata": {
    "ExecuteTime": {
     "end_time": "2024-08-29T18:16:06.437260Z",
     "start_time": "2024-08-29T18:16:06.252078Z"
    }
   },
   "source": [
    "compare[['lhood']].plot(bins=100, kind='hist')"
   ],
   "outputs": [
    {
     "data": {
      "text/plain": [
       "<Axes: ylabel='Frequency'>"
      ]
     },
     "execution_count": 114,
     "metadata": {},
     "output_type": "execute_result"
    },
    {
     "data": {
      "text/plain": [
       "<Figure size 640x480 with 1 Axes>"
      ],
      "image/png": "[encoded data removed]"
     },
     "metadata": {},
     "output_type": "display_data"
    }
   ],
   "execution_count": 114
  },
  {
   "cell_type": "code",
   "metadata": {
    "ExecuteTime": {
     "end_time": "2024-08-29T18:16:06.609264Z",
     "start_time": "2024-08-29T18:16:06.438464Z"
    }
   },
   "source": [
    "compare[['volatilty']].plot(bins=100, kind='hist')"
   ],
   "outputs": [
    {
     "data": {
      "text/plain": [
       "<Axes: ylabel='Frequency'>"
      ]
     },
     "execution_count": 115,
     "metadata": {},
     "output_type": "execute_result"
    },
    {
     "data": {
      "text/plain": [
       "<Figure size 640x480 with 1 Axes>"
      ],
      "image/png": "[encoded data removed]"
     },
     "metadata": {},
     "output_type": "display_data"
    }
   ],
   "execution_count": 115
  },
  {
   "cell_type": "code",
   "metadata": {
    "ExecuteTime": {
     "end_time": "2024-08-29T18:16:06.613154Z",
     "start_time": "2024-08-29T18:16:06.610171Z"
    }
   },
   "source": [
    "conn.close()"
   ],
   "outputs": [],
   "execution_count": 116
  }
 ],
 "metadata": {
  "kernelspec": {
   "display_name": "Python 3 (ipykernel)",
   "language": "python",
   "name": "python3"
  },
  "language_info": {
   "codemirror_mode": {
    "name": "ipython",
    "version": 3
   },
   "file_extension": ".py",
   "mimetype": "text/x-python",
   "name": "python",
   "nbconvert_exporter": "python",
   "pygments_lexer": "ipython3",
   "version": "3.12.4"
  }
 },
 "nbformat": 4,
 "nbformat_minor": 4
}
