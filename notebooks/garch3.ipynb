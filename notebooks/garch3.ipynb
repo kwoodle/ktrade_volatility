{
 "cells": [
  {
   "cell_type": "markdown",
   "metadata": {},
   "source": [
    "### Compare fits for pct_high, pct_low, ... etc"
   ]
  },
  {
   "cell_type": "code",
   "execution_count": 58,
   "metadata": {
    "pycharm": {
     "name": "#%%\n"
    }
   },
   "outputs": [],
   "source": [
    "from sqlalchemy import create_engine\n",
    "engine = create_engine('mysql+pymysql://localhost',\n",
    "                       connect_args={'read_default_file': '~/.mytest.cnf'})\n",
    "conn = engine.connect()"
   ]
  },
  {
   "cell_type": "code",
   "execution_count": 59,
   "metadata": {
    "pycharm": {
     "name": "#%%\n"
    }
   },
   "outputs": [],
   "source": [
    "import pandas as pd\n",
    "tck_qry = pd.read_sql_query('''select symbol, avg(volume*close) from USE_2021\n",
    "    group by symbol order by avg(volume*close) desc limit 20''',\n",
    "                            conn)\n",
    "tdf = pd.DataFrame(tck_qry, columns=['symbol'])\n",
    "tickers = tdf['symbol']"
   ]
  },
  {
   "cell_type": "code",
   "execution_count": 60,
   "metadata": {
    "pycharm": {
     "name": "#%%\n"
    }
   },
   "outputs": [],
   "source": [
    "def query_symbol(sym, conn):\n",
    "    qry = pd.read_sql_query(\n",
    "        '''select tradedate, pct_open, pct_high, pct_low, pct_close,\n",
    "         pct_hilo, pct_opclo from USEQ_HIST\n",
    "        where symbol=\"''' + sym + '''\"\n",
    "        and volume>0\n",
    "         order by tradedate''',\n",
    "        conn,\n",
    "        index_col='tradedate'\n",
    "    )\n",
    "    return sym, pd.DataFrame(qry, columns=[\"pct_open\", \"pct_high\", \"pct_low\", \"pct_close\",\n",
    "                                      \"pct_hilo\", \"pct_opclo\"])"
   ]
  },
  {
   "cell_type": "code",
   "execution_count": 61,
   "metadata": {
    "pycharm": {
     "name": "#%%\n"
    }
   },
   "outputs": [],
   "source": [
    "import math\n",
    "def ann_var(var):\n",
    "    return (math.sqrt((var)*252))"
   ]
  },
  {
   "cell_type": "code",
   "execution_count": 62,
   "metadata": {
    "pycharm": {
     "name": "#%%\n"
    }
   },
   "outputs": [],
   "source": [
    "from arch import arch_model\n",
    "prices = ['pct_open', 'pct_high', 'pct_low', 'pct_close',\n",
    "          'pct_hilo', 'pct_opclo']"
   ]
  },
  {
   "cell_type": "code",
   "execution_count": 63,
   "metadata": {
    "pycharm": {
     "name": "#%%\n"
    }
   },
   "outputs": [
    {
     "data": {
      "text/plain": "                        lhood  volatilty  nobs\nticker price                                  \nHBP    pct_open  -3970.527053  80.441172  1462\n       pct_high  -3860.807315  65.280402  1462\n       pct_low   -3884.756816  60.488584  1462\n       pct_close -3879.824692  62.478496  1462\n       pct_hilo  -3870.537144  49.484785  1462\n       pct_opclo -3876.604134  63.837785  1462\nMS     pct_open  -2886.112817  24.696190  1461\n       pct_high  -2726.443082  24.494491  1461\n       pct_low   -2833.367142  24.293726  1461\n       pct_close -2848.972581  23.925603  1461\n       pct_hilo  -2087.129950  13.240142  1461\n       pct_opclo -2533.682934  18.461183  1461\nSPY    pct_open  -1632.099720   8.759141  1463\n       pct_high  -1382.693539   8.102044  1463\n       pct_low   -1671.369124   9.540389  1463\n       pct_close -1665.757610   8.584599  1463\n       pct_hilo  -1160.066051   5.072931  1463\n       pct_opclo -1295.711861   8.003001  1463\nTSLA   pct_open  -3726.034864  37.050756  1463\n       pct_high  -3572.334796  40.272763  1463\n       pct_low   -3620.055388  33.616292  1463\n       pct_close -3690.751496  33.918250  1463\n       pct_hilo  -2995.989529  27.511891  1463\n       pct_opclo -3427.280660  27.924684  1463\nQQQ    pct_open  -2096.248348  13.437175  1463\n       pct_high  -1797.750558  10.464098  1463\n       pct_low   -2073.875254  13.239993  1463\n       pct_close -2083.022566  14.684301  1463\n       pct_hilo  -1553.211570   7.681396  1463\n       pct_opclo -1780.907563  12.032578  1463\nAAPL   pct_open  -2693.301105  20.447089  1463\n       pct_high  -2473.373426  19.476442  1463\n       pct_low   -2611.407741  19.416185  1463\n       pct_close -2684.002248  18.615249  1463\n       pct_hilo  -2002.131797  11.695193  1463\n       pct_opclo -2314.050570  16.760452  1463",
      "text/html": "<div>\n<style scoped>\n    .dataframe tbody tr th:only-of-type {\n        vertical-align: middle;\n    }\n\n    .dataframe tbody tr th {\n        vertical-align: top;\n    }\n\n    .dataframe thead th {\n        text-align: right;\n    }\n</style>\n<table border=\"1\" class=\"dataframe\">\n  <thead>\n    <tr style=\"text-align: right;\">\n      <th></th>\n      <th></th>\n      <th>lhood</th>\n      <th>volatilty</th>\n      <th>nobs</th>\n    </tr>\n    <tr>\n      <th>ticker</th>\n      <th>price</th>\n      <th></th>\n      <th></th>\n      <th></th>\n    </tr>\n  </thead>\n  <tbody>\n    <tr>\n      <th rowspan=\"6\" valign=\"top\">HBP</th>\n      <th>pct_open</th>\n      <td>-3970.527053</td>\n      <td>80.441172</td>\n      <td>1462</td>\n    </tr>\n    <tr>\n      <th>pct_high</th>\n      <td>-3860.807315</td>\n      <td>65.280402</td>\n      <td>1462</td>\n    </tr>\n    <tr>\n      <th>pct_low</th>\n      <td>-3884.756816</td>\n      <td>60.488584</td>\n      <td>1462</td>\n    </tr>\n    <tr>\n      <th>pct_close</th>\n      <td>-3879.824692</td>\n      <td>62.478496</td>\n      <td>1462</td>\n    </tr>\n    <tr>\n      <th>pct_hilo</th>\n      <td>-3870.537144</td>\n      <td>49.484785</td>\n      <td>1462</td>\n    </tr>\n    <tr>\n      <th>pct_opclo</th>\n      <td>-3876.604134</td>\n      <td>63.837785</td>\n      <td>1462</td>\n    </tr>\n    <tr>\n      <th rowspan=\"6\" valign=\"top\">MS</th>\n      <th>pct_open</th>\n      <td>-2886.112817</td>\n      <td>24.696190</td>\n      <td>1461</td>\n    </tr>\n    <tr>\n      <th>pct_high</th>\n      <td>-2726.443082</td>\n      <td>24.494491</td>\n      <td>1461</td>\n    </tr>\n    <tr>\n      <th>pct_low</th>\n      <td>-2833.367142</td>\n      <td>24.293726</td>\n      <td>1461</td>\n    </tr>\n    <tr>\n      <th>pct_close</th>\n      <td>-2848.972581</td>\n      <td>23.925603</td>\n      <td>1461</td>\n    </tr>\n    <tr>\n      <th>pct_hilo</th>\n      <td>-2087.129950</td>\n      <td>13.240142</td>\n      <td>1461</td>\n    </tr>\n    <tr>\n      <th>pct_opclo</th>\n      <td>-2533.682934</td>\n      <td>18.461183</td>\n      <td>1461</td>\n    </tr>\n    <tr>\n      <th rowspan=\"6\" valign=\"top\">SPY</th>\n      <th>pct_open</th>\n      <td>-1632.099720</td>\n      <td>8.759141</td>\n      <td>1463</td>\n    </tr>\n    <tr>\n      <th>pct_high</th>\n      <td>-1382.693539</td>\n      <td>8.102044</td>\n      <td>1463</td>\n    </tr>\n    <tr>\n      <th>pct_low</th>\n      <td>-1671.369124</td>\n      <td>9.540389</td>\n      <td>1463</td>\n    </tr>\n    <tr>\n      <th>pct_close</th>\n      <td>-1665.757610</td>\n      <td>8.584599</td>\n      <td>1463</td>\n    </tr>\n    <tr>\n      <th>pct_hilo</th>\n      <td>-1160.066051</td>\n      <td>5.072931</td>\n      <td>1463</td>\n    </tr>\n    <tr>\n      <th>pct_opclo</th>\n      <td>-1295.711861</td>\n      <td>8.003001</td>\n      <td>1463</td>\n    </tr>\n    <tr>\n      <th rowspan=\"6\" valign=\"top\">TSLA</th>\n      <th>pct_open</th>\n      <td>-3726.034864</td>\n      <td>37.050756</td>\n      <td>1463</td>\n    </tr>\n    <tr>\n      <th>pct_high</th>\n      <td>-3572.334796</td>\n      <td>40.272763</td>\n      <td>1463</td>\n    </tr>\n    <tr>\n      <th>pct_low</th>\n      <td>-3620.055388</td>\n      <td>33.616292</td>\n      <td>1463</td>\n    </tr>\n    <tr>\n      <th>pct_close</th>\n      <td>-3690.751496</td>\n      <td>33.918250</td>\n      <td>1463</td>\n    </tr>\n    <tr>\n      <th>pct_hilo</th>\n      <td>-2995.989529</td>\n      <td>27.511891</td>\n      <td>1463</td>\n    </tr>\n    <tr>\n      <th>pct_opclo</th>\n      <td>-3427.280660</td>\n      <td>27.924684</td>\n      <td>1463</td>\n    </tr>\n    <tr>\n      <th rowspan=\"6\" valign=\"top\">QQQ</th>\n      <th>pct_open</th>\n      <td>-2096.248348</td>\n      <td>13.437175</td>\n      <td>1463</td>\n    </tr>\n    <tr>\n      <th>pct_high</th>\n      <td>-1797.750558</td>\n      <td>10.464098</td>\n      <td>1463</td>\n    </tr>\n    <tr>\n      <th>pct_low</th>\n      <td>-2073.875254</td>\n      <td>13.239993</td>\n      <td>1463</td>\n    </tr>\n    <tr>\n      <th>pct_close</th>\n      <td>-2083.022566</td>\n      <td>14.684301</td>\n      <td>1463</td>\n    </tr>\n    <tr>\n      <th>pct_hilo</th>\n      <td>-1553.211570</td>\n      <td>7.681396</td>\n      <td>1463</td>\n    </tr>\n    <tr>\n      <th>pct_opclo</th>\n      <td>-1780.907563</td>\n      <td>12.032578</td>\n      <td>1463</td>\n    </tr>\n    <tr>\n      <th rowspan=\"6\" valign=\"top\">AAPL</th>\n      <th>pct_open</th>\n      <td>-2693.301105</td>\n      <td>20.447089</td>\n      <td>1463</td>\n    </tr>\n    <tr>\n      <th>pct_high</th>\n      <td>-2473.373426</td>\n      <td>19.476442</td>\n      <td>1463</td>\n    </tr>\n    <tr>\n      <th>pct_low</th>\n      <td>-2611.407741</td>\n      <td>19.416185</td>\n      <td>1463</td>\n    </tr>\n    <tr>\n      <th>pct_close</th>\n      <td>-2684.002248</td>\n      <td>18.615249</td>\n      <td>1463</td>\n    </tr>\n    <tr>\n      <th>pct_hilo</th>\n      <td>-2002.131797</td>\n      <td>11.695193</td>\n      <td>1463</td>\n    </tr>\n    <tr>\n      <th>pct_opclo</th>\n      <td>-2314.050570</td>\n      <td>16.760452</td>\n      <td>1463</td>\n    </tr>\n  </tbody>\n</table>\n</div>"
     },
     "execution_count": 63,
     "metadata": {},
     "output_type": "execute_result"
    }
   ],
   "source": [
    "rows = []\n",
    "tickers=pd.Series(data=['MS']).append(tickers)\n",
    "tickers=pd.Series(data=['HBP']).append(tickers)\n",
    "\n",
    "for tk in tickers:\n",
    "    ticker, df = query_symbol(tk, conn)\n",
    "    if(len(df.index)<100):\n",
    "        print(\"len(df)\", len(df.index), \"for ticker\", tk)\n",
    "        continue\n",
    "    for pr in prices:\n",
    "        am = arch_model(df[pr], p=1, o=1, q=1, dist=\"StudentsT\")\n",
    "        res = am.fit(disp='off')\n",
    "        forecasts = res.forecast(reindex=False)\n",
    "        row = [tk, pr, res.loglikelihood, ann_var(forecasts.variance['h.1'].iloc[0])\n",
    "               ,res.nobs]\n",
    "        rows.append(row)\n",
    "\n",
    "    cmp = pd.DataFrame(rows, columns=['ticker', 'price', 'lhood', 'volatilty', 'nobs'])\n",
    "\n",
    "compare = cmp.set_index(['ticker', 'price'])\n",
    "compare.head(36)"
   ]
  },
  {
   "cell_type": "code",
   "execution_count": 64,
   "metadata": {
    "pycharm": {
     "name": "#%%\n"
    }
   },
   "outputs": [
    {
     "data": {
      "text/plain": "<AxesSubplot:ylabel='Frequency'>"
     },
     "execution_count": 64,
     "metadata": {},
     "output_type": "execute_result"
    },
    {
     "data": {
      "text/plain": "<Figure size 432x288 with 1 Axes>",
      "image/png": "[encoded data removed]"
     },
     "metadata": {
      "needs_background": "light"
     },
     "output_type": "display_data"
    }
   ],
   "source": [
    "compare[['lhood']].plot(bins=100, kind='hist')"
   ]
  },
  {
   "cell_type": "code",
   "execution_count": 65,
   "metadata": {
    "pycharm": {
     "name": "#%%\n"
    }
   },
   "outputs": [
    {
     "data": {
      "text/plain": "<AxesSubplot:ylabel='Frequency'>"
     },
     "execution_count": 65,
     "metadata": {},
     "output_type": "execute_result"
    },
    {
     "data": {
      "text/plain": "<Figure size 432x288 with 1 Axes>",
      "image/png": "[encoded data removed]"
     },
     "metadata": {
      "needs_background": "light"
     },
     "output_type": "display_data"
    }
   ],
   "source": [
    "compare[['volatilty']].plot(bins=100, kind='hist')"
   ]
  },
  {
   "cell_type": "code",
   "execution_count": 66,
   "outputs": [],
   "source": [
    "conn.close()"
   ],
   "metadata": {
    "collapsed": false,
    "pycharm": {
     "name": "#%%\n"
    }
   }
  }
 ],
 "metadata": {
  "kernelspec": {
   "display_name": "Python 3",
   "language": "python",
   "name": "python3"
  },
  "language_info": {
   "codemirror_mode": {
    "name": "ipython",
    "version": 3
   },
   "file_extension": ".py",
   "mimetype": "text/x-python",
   "name": "python",
   "nbconvert_exporter": "python",
   "pygments_lexer": "ipython3",
   "version": "3.8.8"
  }
 },
 "nbformat": 4,
 "nbformat_minor": 1
}