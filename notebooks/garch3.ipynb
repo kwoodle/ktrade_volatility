{
 "cells": [
  {
   "cell_type": "markdown",
   "metadata": {},
   "source": [
    "### Compare fits for pct_high, pct_low, ... etc"
   ]
  },
  {
   "cell_type": "code",
   "execution_count": 10,
   "metadata": {
    "pycharm": {
     "name": "#%%\n"
    }
   },
   "outputs": [],
   "source": [
    "from sqlalchemy import create_engine\n",
    "engine = create_engine('mysql+pymysql://localhost',\n",
    "                       connect_args={'read_default_file': '~/.mytest.cnf'})\n",
    "conn = engine.connect()"
   ]
  },
  {
   "cell_type": "code",
   "execution_count": 11,
   "metadata": {
    "pycharm": {
     "name": "#%%\n"
    }
   },
   "outputs": [],
   "source": [
    "import pandas as pd\n",
    "tck_qry = pd.read_sql_query('''select symbol, avg(volume*close) from USE_2021\n",
    "    group by symbol order by avg(volume*close) desc limit 20''',\n",
    "                            conn)\n",
    "tdf = pd.DataFrame(tck_qry, columns=['symbol'])\n",
    "tickers = tdf['symbol']"
   ]
  },
  {
   "cell_type": "code",
   "execution_count": 12,
   "metadata": {
    "pycharm": {
     "name": "#%%\n"
    }
   },
   "outputs": [],
   "source": [
    "def query_symbol(sym, conn):\n",
    "    qry = pd.read_sql_query(\n",
    "        '''select tradedate, pct_open, pct_high, pct_low, pct_close,\n",
    "         pct_hilo, pct_opclo from USEQ_HIST\n",
    "        where symbol=\"''' + sym + '''\"\n",
    "        and volume>0\n",
    "         order by tradedate''',\n",
    "        conn,\n",
    "        index_col='tradedate'\n",
    "    )\n",
    "    return sym, pd.DataFrame(qry, columns=[\"pct_open\", \"pct_high\", \"pct_low\", \"pct_close\",\n",
    "                                      \"pct_hilo\", \"pct_opclo\"])"
   ]
  },
  {
   "cell_type": "code",
   "execution_count": 13,
   "metadata": {
    "pycharm": {
     "name": "#%%\n"
    }
   },
   "outputs": [],
   "source": [
    "import math\n",
    "def ann_var(mean, var):\n",
    "    return (math.sqrt((mean+var)*252))"
   ]
  },
  {
   "cell_type": "code",
   "execution_count": 14,
   "metadata": {
    "pycharm": {
     "name": "#%%\n"
    }
   },
   "outputs": [],
   "source": [
    "from arch import arch_model\n",
    "prices = ['pct_open', 'pct_high', 'pct_low', 'pct_close',\n",
    "          'pct_hilo', 'pct_opclo']"
   ]
  },
  {
   "cell_type": "code",
   "execution_count": 15,
   "metadata": {
    "pycharm": {
     "name": "#%%\n"
    }
   },
   "outputs": [
    {
     "data": {
      "text/plain": "                        lhood   variance  nobs\nticker price                                  \nMS     pct_open  -2879.040230  29.471398  1456\n       pct_high  -2719.369158  27.341716  1456\n       pct_low   -2825.473096  27.077867  1456\n       pct_close -2841.352857  28.204374  1456\n       pct_hilo  -2081.393404  29.031317  1456\n       pct_opclo -2527.537147  23.709376  1456\nSPY    pct_open  -1628.338515  12.207781  1458\n       pct_high  -1380.260050  12.190152  1458\n       pct_low   -1667.363473  13.184374  1458\n       pct_close -1662.894752  12.984633  1458\n       pct_hilo  -1160.140670  14.307705  1458\n       pct_opclo -1293.058202  10.050544  1458\nTSLA   pct_open  -3711.469379  31.541645  1458\n       pct_high  -3560.503137  37.645885  1458\n       pct_low   -3607.856468  32.022921  1458\n       pct_close -3679.393418  33.458420  1458\n       pct_hilo  -2986.352228  37.514909  1458\n       pct_opclo -3415.019628  25.663789  1458\nQQQ    pct_open  -2090.279360  16.821194  1458\n       pct_high  -1793.891405  14.333789  1458\n       pct_low   -2068.704333  16.826393  1458\n       pct_close -2077.302037  17.484804  1458\n       pct_hilo  -1550.908038  17.077302  1458\n       pct_opclo -1774.924491  12.741870  1458\nAAPL   pct_open  -2685.542291  23.879204  1458\n       pct_high  -2466.848326  22.534087  1458\n       pct_low   -2603.969012  23.507031  1458\n       pct_close -2677.500042  22.380554  1458\n       pct_hilo  -1997.136886  22.716854  1458\n       pct_opclo -2306.402751  16.791947  1458\nAMZN   pct_open  -2768.034128  21.587891  1458\n       pct_high  -2541.352599  23.736362  1458\n       pct_low   -2697.000670  22.125193  1458\n       pct_close -2717.622124  25.710699  1458\n       pct_hilo  -2102.468333  28.579043  1458\n       pct_opclo -2470.293573  21.489145  1458",
      "text/html": "<div>\n<style scoped>\n    .dataframe tbody tr th:only-of-type {\n        vertical-align: middle;\n    }\n\n    .dataframe tbody tr th {\n        vertical-align: top;\n    }\n\n    .dataframe thead th {\n        text-align: right;\n    }\n</style>\n<table border=\"1\" class=\"dataframe\">\n  <thead>\n    <tr style=\"text-align: right;\">\n      <th></th>\n      <th></th>\n      <th>lhood</th>\n      <th>variance</th>\n      <th>nobs</th>\n    </tr>\n    <tr>\n      <th>ticker</th>\n      <th>price</th>\n      <th></th>\n      <th></th>\n      <th></th>\n    </tr>\n  </thead>\n  <tbody>\n    <tr>\n      <th rowspan=\"6\" valign=\"top\">MS</th>\n      <th>pct_open</th>\n      <td>-2879.040230</td>\n      <td>29.471398</td>\n      <td>1456</td>\n    </tr>\n    <tr>\n      <th>pct_high</th>\n      <td>-2719.369158</td>\n      <td>27.341716</td>\n      <td>1456</td>\n    </tr>\n    <tr>\n      <th>pct_low</th>\n      <td>-2825.473096</td>\n      <td>27.077867</td>\n      <td>1456</td>\n    </tr>\n    <tr>\n      <th>pct_close</th>\n      <td>-2841.352857</td>\n      <td>28.204374</td>\n      <td>1456</td>\n    </tr>\n    <tr>\n      <th>pct_hilo</th>\n      <td>-2081.393404</td>\n      <td>29.031317</td>\n      <td>1456</td>\n    </tr>\n    <tr>\n      <th>pct_opclo</th>\n      <td>-2527.537147</td>\n      <td>23.709376</td>\n      <td>1456</td>\n    </tr>\n    <tr>\n      <th rowspan=\"6\" valign=\"top\">SPY</th>\n      <th>pct_open</th>\n      <td>-1628.338515</td>\n      <td>12.207781</td>\n      <td>1458</td>\n    </tr>\n    <tr>\n      <th>pct_high</th>\n      <td>-1380.260050</td>\n      <td>12.190152</td>\n      <td>1458</td>\n    </tr>\n    <tr>\n      <th>pct_low</th>\n      <td>-1667.363473</td>\n      <td>13.184374</td>\n      <td>1458</td>\n    </tr>\n    <tr>\n      <th>pct_close</th>\n      <td>-1662.894752</td>\n      <td>12.984633</td>\n      <td>1458</td>\n    </tr>\n    <tr>\n      <th>pct_hilo</th>\n      <td>-1160.140670</td>\n      <td>14.307705</td>\n      <td>1458</td>\n    </tr>\n    <tr>\n      <th>pct_opclo</th>\n      <td>-1293.058202</td>\n      <td>10.050544</td>\n      <td>1458</td>\n    </tr>\n    <tr>\n      <th rowspan=\"6\" valign=\"top\">TSLA</th>\n      <th>pct_open</th>\n      <td>-3711.469379</td>\n      <td>31.541645</td>\n      <td>1458</td>\n    </tr>\n    <tr>\n      <th>pct_high</th>\n      <td>-3560.503137</td>\n      <td>37.645885</td>\n      <td>1458</td>\n    </tr>\n    <tr>\n      <th>pct_low</th>\n      <td>-3607.856468</td>\n      <td>32.022921</td>\n      <td>1458</td>\n    </tr>\n    <tr>\n      <th>pct_close</th>\n      <td>-3679.393418</td>\n      <td>33.458420</td>\n      <td>1458</td>\n    </tr>\n    <tr>\n      <th>pct_hilo</th>\n      <td>-2986.352228</td>\n      <td>37.514909</td>\n      <td>1458</td>\n    </tr>\n    <tr>\n      <th>pct_opclo</th>\n      <td>-3415.019628</td>\n      <td>25.663789</td>\n      <td>1458</td>\n    </tr>\n    <tr>\n      <th rowspan=\"6\" valign=\"top\">QQQ</th>\n      <th>pct_open</th>\n      <td>-2090.279360</td>\n      <td>16.821194</td>\n      <td>1458</td>\n    </tr>\n    <tr>\n      <th>pct_high</th>\n      <td>-1793.891405</td>\n      <td>14.333789</td>\n      <td>1458</td>\n    </tr>\n    <tr>\n      <th>pct_low</th>\n      <td>-2068.704333</td>\n      <td>16.826393</td>\n      <td>1458</td>\n    </tr>\n    <tr>\n      <th>pct_close</th>\n      <td>-2077.302037</td>\n      <td>17.484804</td>\n      <td>1458</td>\n    </tr>\n    <tr>\n      <th>pct_hilo</th>\n      <td>-1550.908038</td>\n      <td>17.077302</td>\n      <td>1458</td>\n    </tr>\n    <tr>\n      <th>pct_opclo</th>\n      <td>-1774.924491</td>\n      <td>12.741870</td>\n      <td>1458</td>\n    </tr>\n    <tr>\n      <th rowspan=\"6\" valign=\"top\">AAPL</th>\n      <th>pct_open</th>\n      <td>-2685.542291</td>\n      <td>23.879204</td>\n      <td>1458</td>\n    </tr>\n    <tr>\n      <th>pct_high</th>\n      <td>-2466.848326</td>\n      <td>22.534087</td>\n      <td>1458</td>\n    </tr>\n    <tr>\n      <th>pct_low</th>\n      <td>-2603.969012</td>\n      <td>23.507031</td>\n      <td>1458</td>\n    </tr>\n    <tr>\n      <th>pct_close</th>\n      <td>-2677.500042</td>\n      <td>22.380554</td>\n      <td>1458</td>\n    </tr>\n    <tr>\n      <th>pct_hilo</th>\n      <td>-1997.136886</td>\n      <td>22.716854</td>\n      <td>1458</td>\n    </tr>\n    <tr>\n      <th>pct_opclo</th>\n      <td>-2306.402751</td>\n      <td>16.791947</td>\n      <td>1458</td>\n    </tr>\n    <tr>\n      <th rowspan=\"6\" valign=\"top\">AMZN</th>\n      <th>pct_open</th>\n      <td>-2768.034128</td>\n      <td>21.587891</td>\n      <td>1458</td>\n    </tr>\n    <tr>\n      <th>pct_high</th>\n      <td>-2541.352599</td>\n      <td>23.736362</td>\n      <td>1458</td>\n    </tr>\n    <tr>\n      <th>pct_low</th>\n      <td>-2697.000670</td>\n      <td>22.125193</td>\n      <td>1458</td>\n    </tr>\n    <tr>\n      <th>pct_close</th>\n      <td>-2717.622124</td>\n      <td>25.710699</td>\n      <td>1458</td>\n    </tr>\n    <tr>\n      <th>pct_hilo</th>\n      <td>-2102.468333</td>\n      <td>28.579043</td>\n      <td>1458</td>\n    </tr>\n    <tr>\n      <th>pct_opclo</th>\n      <td>-2470.293573</td>\n      <td>21.489145</td>\n      <td>1458</td>\n    </tr>\n  </tbody>\n</table>\n</div>"
     },
     "execution_count": 15,
     "metadata": {},
     "output_type": "execute_result"
    }
   ],
   "source": [
    "rows = []\n",
    "tickers=pd.Series(data=['MS']).append(tickers)\n",
    "for tk in tickers:\n",
    "    ticker, df = query_symbol(tk, conn)\n",
    "    if(len(df.index)<100):\n",
    "        print(\"len(df)\", len(df.index), \"for ticker\", tk)\n",
    "        continue\n",
    "    for pr in prices:\n",
    "        am = arch_model(df[pr], p=1, o=1, q=1, dist=\"StudentsT\")\n",
    "        res = am.fit(disp='off')\n",
    "        forecasts = res.forecast(reindex=False)\n",
    "        row = [tk, pr, res.loglikelihood, ann_var(forecasts.mean['h.1'].iloc[0], forecasts.variance['h.1'].iloc[0])\n",
    "               ,res.nobs]\n",
    "        rows.append(row)\n",
    "\n",
    "    cmp = pd.DataFrame(rows, columns=['ticker', 'price', 'lhood', 'variance', 'nobs'])\n",
    "\n",
    "compare = cmp.set_index(['ticker', 'price'])\n",
    "compare.head(36)"
   ]
  },
  {
   "cell_type": "code",
   "execution_count": 16,
   "metadata": {
    "pycharm": {
     "name": "#%%\n"
    }
   },
   "outputs": [
    {
     "data": {
      "text/plain": "<AxesSubplot:ylabel='Frequency'>"
     },
     "execution_count": 16,
     "metadata": {},
     "output_type": "execute_result"
    },
    {
     "data": {
      "text/plain": "<Figure size 432x288 with 1 Axes>",
      "image/png": "[encoded data removed]"
     },
     "metadata": {
      "needs_background": "light"
     },
     "output_type": "display_data"
    }
   ],
   "source": [
    "compare[['lhood']].plot(bins=100, kind='hist')"
   ]
  },
  {
   "cell_type": "code",
   "execution_count": 17,
   "metadata": {
    "pycharm": {
     "name": "#%%\n"
    }
   },
   "outputs": [
    {
     "data": {
      "text/plain": "<AxesSubplot:ylabel='Frequency'>"
     },
     "execution_count": 17,
     "metadata": {},
     "output_type": "execute_result"
    },
    {
     "data": {
      "text/plain": "<Figure size 432x288 with 1 Axes>",
      "image/png": "[encoded data removed]"
     },
     "metadata": {
      "needs_background": "light"
     },
     "output_type": "display_data"
    }
   ],
   "source": [
    "compare[['variance']].plot(bins=100, kind='hist')"
   ]
  },
  {
   "cell_type": "code",
   "execution_count": 18,
   "outputs": [],
   "source": [
    "conn.close()"
   ],
   "metadata": {
    "collapsed": false,
    "pycharm": {
     "name": "#%%\n"
    }
   }
  }
 ],
 "metadata": {
  "kernelspec": {
   "display_name": "Python 3",
   "language": "python",
   "name": "python3"
  },
  "language_info": {
   "codemirror_mode": {
    "name": "ipython",
    "version": 3
   },
   "file_extension": ".py",
   "mimetype": "text/x-python",
   "name": "python",
   "nbconvert_exporter": "python",
   "pygments_lexer": "ipython3",
   "version": "3.8.8"
  }
 },
 "nbformat": 4,
 "nbformat_minor": 1
}