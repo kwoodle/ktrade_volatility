{
 "cells": [
  {
   "cell_type": "markdown",
   "metadata": {},
   "source": [
    "### Compare fits for pct_high, pct_low, ... etc"
   ]
  },
  {
   "cell_type": "markdown",
   "source": [
    "#### 'Disabling' numba has no effect\n",
    "import os\n",
    "check = os.environ.get(\"ARCH_DISABLE_NUMBA\", True)"
   ],
   "metadata": {
    "collapsed": false,
    "pycharm": {
     "name": "#%% md\n"
    }
   }
  },
  {
   "cell_type": "code",
   "execution_count": 1,
   "metadata": {
    "pycharm": {
     "name": "#%%\n"
    }
   },
   "outputs": [],
   "source": [
    "import time\n",
    "\n",
    "import numpy as np\n",
    "\n",
    "start_time = time.time()"
   ]
  },
  {
   "cell_type": "code",
   "execution_count": 2,
   "metadata": {
    "pycharm": {
     "name": "#%%\n"
    }
   },
   "outputs": [],
   "source": [
    "from sqlalchemy import create_engine\n",
    "engine = create_engine('mysql+pymysql://localhost',\n",
    "                       connect_args={'read_default_file': '~/.mytest.cnf'})\n",
    "conn = engine.connect()"
   ]
  },
  {
   "cell_type": "code",
   "execution_count": 3,
   "metadata": {
    "pycharm": {
     "name": "#%%\n"
    }
   },
   "outputs": [],
   "source": [
    "import pandas as pd\n",
    "tck_qry = pd.read_sql_query('''select distinct us.symbol, avg(us.volume*us.close) from USE_2021 us\n",
    "join US_SymsWithOptions USWO on us.symbol = USWO.Symbol\n",
    "where USWO.`Symbol Type` = 'Equity'\n",
    "    group by us.symbol order by avg(us.volume*us.close) desc limit 500''',\n",
    "                            conn)\n",
    "tdf = pd.DataFrame(tck_qry, columns=['symbol'])\n",
    "tickers = tdf['symbol']\n",
    "prices = [\"pct_open\", \"pct_high\", \"pct_low\", \"pct_close\",\n",
    "          'pct_hilo', 'pct_opclo']\n",
    "#prices = [\"pct_hilo\"]"
   ]
  },
  {
   "cell_type": "code",
   "execution_count": 4,
   "metadata": {
    "pycharm": {
     "name": "#%%\n"
    }
   },
   "outputs": [
    {
     "name": "stdout",
     "output_type": "stream",
     "text": [
      "sql executed in  1.65  secs\n"
     ]
    }
   ],
   "source": [
    "sql_diff = time.time() - start_time\n",
    "formatted_diff = \"{:.2f}\".format(sql_diff)\n",
    "print(\"sql executed in \", formatted_diff, \" secs\")"
   ]
  },
  {
   "cell_type": "code",
   "execution_count": 5,
   "metadata": {
    "pycharm": {
     "name": "#%%\n"
    }
   },
   "outputs": [],
   "source": [
    "def query_symbol(sym, conn):\n",
    "    qry = pd.read_sql_query(\n",
    "        '''select tradedate, pct_open, pct_high, pct_low, pct_close,\n",
    "         pct_hilo, pct_opclo from USEQ_HIST\n",
    "        where symbol=\"''' + sym + '''\"\n",
    "        and volume>0\n",
    "         order by tradedate''',\n",
    "        conn,\n",
    "        index_col='tradedate'\n",
    "    )\n",
    "    return sym, pd.DataFrame(qry, columns=prices)"
   ]
  },
  {
   "cell_type": "code",
   "execution_count": 6,
   "metadata": {
    "pycharm": {
     "name": "#%%\n"
    }
   },
   "outputs": [],
   "source": [
    "import math\n",
    "def ann_var(var):\n",
    "    return (math.sqrt((var)*252))"
   ]
  },
  {
   "cell_type": "code",
   "execution_count": 7,
   "metadata": {
    "pycharm": {
     "name": "#%%\n"
    }
   },
   "outputs": [],
   "source": [
    "from arch import arch_model"
   ]
  },
  {
   "cell_type": "code",
   "execution_count": 8,
   "metadata": {
    "pycharm": {
     "name": "#%%\n"
    }
   },
   "outputs": [
    {
     "name": "stdout",
     "output_type": "stream",
     "text": [
      "fitting symbol:  TSLA   for price:  pct_open len(df):  1477\n",
      "201  executed in  0.02  secs\n",
      "fitting symbol:  QCOM   for price:  pct_close len(df):  1477\n",
      "201  executed in  7.04  secs\n",
      "fitting symbol:  FCX   for price:  pct_open len(df):  1475\n",
      "201  executed in  6.94  secs\n",
      "fitting symbol:  ASML   for price:  pct_close len(df):  1477\n",
      "201  executed in  6.50  secs\n",
      "fitting symbol:  MMM   for price:  pct_open len(df):  1475\n",
      "201  executed in  7.04  secs\n",
      "fitting symbol:  LVS   for price:  pct_close len(df):  1475\n",
      "201  executed in  6.68  secs\n",
      "fitting symbol:  CCI   for price:  pct_open len(df):  1475\n",
      "201  executed in  6.77  secs\n",
      "fitting symbol:  CZR   for price:  pct_close len(df):  1477\n",
      "201  executed in  6.91  secs\n"
     ]
    },
    {
     "name": "stderr",
     "output_type": "stream",
     "text": [
      "/home/kwoodle/anaconda3/lib/python3.8/site-packages/arch/univariate/base.py:753: ConvergenceWarning: The optimizer returned code 8. The message is:\n",
      "Positive directional derivative for linesearch\n",
      "See scipy.optimize.fmin_slsqp for code meaning.\n",
      "\n",
      "  warnings.warn(\n"
     ]
    },
    {
     "name": "stdout",
     "output_type": "stream",
     "text": [
      "fitting symbol:  CP   for price:  pct_high len(df):  1475\n",
      "201  executed in  7.11  secs\n",
      "fitting symbol:  WM   for price:  pct_hilo len(df):  1475\n",
      "201  executed in  6.88  secs\n",
      "fitting symbol:  MCK   for price:  pct_high len(df):  1475\n",
      "201  executed in  6.60  secs\n",
      "fitting symbol:  LH   for price:  pct_hilo len(df):  1475\n",
      "201  executed in  6.58  secs\n",
      "fitting symbol:  CREE   for price:  pct_high len(df):  1448\n",
      "201  executed in  6.76  secs\n"
     ]
    },
    {
     "data": {
      "text/plain": "                        lhood  volatilty      mean  nobs\nticker price                                            \nTSLA   pct_open  -3775.737727  92.699686  0.164966  1477\n       pct_high  -3617.709975  67.416022  0.167387  1477\n       pct_low   -3668.949665  71.167838  0.239415  1477\n       pct_close -3739.816685  68.324805  0.189788  1477\n       pct_hilo  -3042.597365  88.224586  3.155574  1477\n       pct_opclo -3472.913556  71.461778 -0.030156  1477\nAAPL   pct_open  -2711.171496  18.828448  0.161650  1477\n       pct_high  -2494.183178  20.196766  0.134665  1477\n       pct_low   -2630.989864  21.671953  0.178222  1477\n       pct_close -2705.437250  22.429252  0.142629  1477\n       pct_hilo  -2013.241695  11.149129  1.513104  1477\n       pct_opclo -2332.760456  16.294813 -0.115566  1477\nAMZN   pct_open  -2806.214090  26.739032  0.153960  1477\n       pct_high  -2577.231315  25.920938  0.138367  1477\n       pct_low   -2732.767198  23.457154  0.147358  1477\n       pct_close -2756.025252  29.805763  0.138990  1477\n       pct_hilo  -2133.446301  24.339229  1.583225  1477\n       pct_opclo -2507.561444  26.087764 -0.001820  1477\nMSFT   pct_open  -2482.534553  16.725714  0.125110  1477\n       pct_high  -2240.649585  16.317818  0.143031  1477\n       pct_low   -2399.483243  15.606284  0.127474  1477\n       pct_close -2519.755064  18.434251  0.125556  1477\n       pct_hilo  -1821.528480   9.554579  1.389972  1477\n       pct_opclo -2213.749164  14.906075 -0.057902  1477\nNVDA   pct_open  -3481.081250  84.248906  0.289144  1477\n       pct_high  -3222.099650  44.867675  0.263247  1477\n       pct_low   -3373.384010  48.624770  0.336038  1477\n       pct_close -3464.501233  51.642885  0.270527  1477\n       pct_hilo  -2666.639665  38.325128  2.617894  1477\n       pct_opclo -3146.907335  44.022047 -0.067580  1477\nFB     pct_open  -2892.602070  33.189216  0.117888  1477\n       pct_high  -2651.153741  29.616865  0.102500  1477\n       pct_low   -2771.088768  34.007490  0.142111  1477\n       pct_close -2853.914087  33.916199  0.114989  1477\n       pct_hilo  -2259.876546  13.213917  1.818153  1477\n       pct_opclo -2555.452122  23.408814 -0.048146  1477",
      "text/html": "<div>\n<style scoped>\n    .dataframe tbody tr th:only-of-type {\n        vertical-align: middle;\n    }\n\n    .dataframe tbody tr th {\n        vertical-align: top;\n    }\n\n    .dataframe thead th {\n        text-align: right;\n    }\n</style>\n<table border=\"1\" class=\"dataframe\">\n  <thead>\n    <tr style=\"text-align: right;\">\n      <th></th>\n      <th></th>\n      <th>lhood</th>\n      <th>volatilty</th>\n      <th>mean</th>\n      <th>nobs</th>\n    </tr>\n    <tr>\n      <th>ticker</th>\n      <th>price</th>\n      <th></th>\n      <th></th>\n      <th></th>\n      <th></th>\n    </tr>\n  </thead>\n  <tbody>\n    <tr>\n      <th rowspan=\"6\" valign=\"top\">TSLA</th>\n      <th>pct_open</th>\n      <td>-3775.737727</td>\n      <td>92.699686</td>\n      <td>0.164966</td>\n      <td>1477</td>\n    </tr>\n    <tr>\n      <th>pct_high</th>\n      <td>-3617.709975</td>\n      <td>67.416022</td>\n      <td>0.167387</td>\n      <td>1477</td>\n    </tr>\n    <tr>\n      <th>pct_low</th>\n      <td>-3668.949665</td>\n      <td>71.167838</td>\n      <td>0.239415</td>\n      <td>1477</td>\n    </tr>\n    <tr>\n      <th>pct_close</th>\n      <td>-3739.816685</td>\n      <td>68.324805</td>\n      <td>0.189788</td>\n      <td>1477</td>\n    </tr>\n    <tr>\n      <th>pct_hilo</th>\n      <td>-3042.597365</td>\n      <td>88.224586</td>\n      <td>3.155574</td>\n      <td>1477</td>\n    </tr>\n    <tr>\n      <th>pct_opclo</th>\n      <td>-3472.913556</td>\n      <td>71.461778</td>\n      <td>-0.030156</td>\n      <td>1477</td>\n    </tr>\n    <tr>\n      <th rowspan=\"6\" valign=\"top\">AAPL</th>\n      <th>pct_open</th>\n      <td>-2711.171496</td>\n      <td>18.828448</td>\n      <td>0.161650</td>\n      <td>1477</td>\n    </tr>\n    <tr>\n      <th>pct_high</th>\n      <td>-2494.183178</td>\n      <td>20.196766</td>\n      <td>0.134665</td>\n      <td>1477</td>\n    </tr>\n    <tr>\n      <th>pct_low</th>\n      <td>-2630.989864</td>\n      <td>21.671953</td>\n      <td>0.178222</td>\n      <td>1477</td>\n    </tr>\n    <tr>\n      <th>pct_close</th>\n      <td>-2705.437250</td>\n      <td>22.429252</td>\n      <td>0.142629</td>\n      <td>1477</td>\n    </tr>\n    <tr>\n      <th>pct_hilo</th>\n      <td>-2013.241695</td>\n      <td>11.149129</td>\n      <td>1.513104</td>\n      <td>1477</td>\n    </tr>\n    <tr>\n      <th>pct_opclo</th>\n      <td>-2332.760456</td>\n      <td>16.294813</td>\n      <td>-0.115566</td>\n      <td>1477</td>\n    </tr>\n    <tr>\n      <th rowspan=\"6\" valign=\"top\">AMZN</th>\n      <th>pct_open</th>\n      <td>-2806.214090</td>\n      <td>26.739032</td>\n      <td>0.153960</td>\n      <td>1477</td>\n    </tr>\n    <tr>\n      <th>pct_high</th>\n      <td>-2577.231315</td>\n      <td>25.920938</td>\n      <td>0.138367</td>\n      <td>1477</td>\n    </tr>\n    <tr>\n      <th>pct_low</th>\n      <td>-2732.767198</td>\n      <td>23.457154</td>\n      <td>0.147358</td>\n      <td>1477</td>\n    </tr>\n    <tr>\n      <th>pct_close</th>\n      <td>-2756.025252</td>\n      <td>29.805763</td>\n      <td>0.138990</td>\n      <td>1477</td>\n    </tr>\n    <tr>\n      <th>pct_hilo</th>\n      <td>-2133.446301</td>\n      <td>24.339229</td>\n      <td>1.583225</td>\n      <td>1477</td>\n    </tr>\n    <tr>\n      <th>pct_opclo</th>\n      <td>-2507.561444</td>\n      <td>26.087764</td>\n      <td>-0.001820</td>\n      <td>1477</td>\n    </tr>\n    <tr>\n      <th rowspan=\"6\" valign=\"top\">MSFT</th>\n      <th>pct_open</th>\n      <td>-2482.534553</td>\n      <td>16.725714</td>\n      <td>0.125110</td>\n      <td>1477</td>\n    </tr>\n    <tr>\n      <th>pct_high</th>\n      <td>-2240.649585</td>\n      <td>16.317818</td>\n      <td>0.143031</td>\n      <td>1477</td>\n    </tr>\n    <tr>\n      <th>pct_low</th>\n      <td>-2399.483243</td>\n      <td>15.606284</td>\n      <td>0.127474</td>\n      <td>1477</td>\n    </tr>\n    <tr>\n      <th>pct_close</th>\n      <td>-2519.755064</td>\n      <td>18.434251</td>\n      <td>0.125556</td>\n      <td>1477</td>\n    </tr>\n    <tr>\n      <th>pct_hilo</th>\n      <td>-1821.528480</td>\n      <td>9.554579</td>\n      <td>1.389972</td>\n      <td>1477</td>\n    </tr>\n    <tr>\n      <th>pct_opclo</th>\n      <td>-2213.749164</td>\n      <td>14.906075</td>\n      <td>-0.057902</td>\n      <td>1477</td>\n    </tr>\n    <tr>\n      <th rowspan=\"6\" valign=\"top\">NVDA</th>\n      <th>pct_open</th>\n      <td>-3481.081250</td>\n      <td>84.248906</td>\n      <td>0.289144</td>\n      <td>1477</td>\n    </tr>\n    <tr>\n      <th>pct_high</th>\n      <td>-3222.099650</td>\n      <td>44.867675</td>\n      <td>0.263247</td>\n      <td>1477</td>\n    </tr>\n    <tr>\n      <th>pct_low</th>\n      <td>-3373.384010</td>\n      <td>48.624770</td>\n      <td>0.336038</td>\n      <td>1477</td>\n    </tr>\n    <tr>\n      <th>pct_close</th>\n      <td>-3464.501233</td>\n      <td>51.642885</td>\n      <td>0.270527</td>\n      <td>1477</td>\n    </tr>\n    <tr>\n      <th>pct_hilo</th>\n      <td>-2666.639665</td>\n      <td>38.325128</td>\n      <td>2.617894</td>\n      <td>1477</td>\n    </tr>\n    <tr>\n      <th>pct_opclo</th>\n      <td>-3146.907335</td>\n      <td>44.022047</td>\n      <td>-0.067580</td>\n      <td>1477</td>\n    </tr>\n    <tr>\n      <th rowspan=\"6\" valign=\"top\">FB</th>\n      <th>pct_open</th>\n      <td>-2892.602070</td>\n      <td>33.189216</td>\n      <td>0.117888</td>\n      <td>1477</td>\n    </tr>\n    <tr>\n      <th>pct_high</th>\n      <td>-2651.153741</td>\n      <td>29.616865</td>\n      <td>0.102500</td>\n      <td>1477</td>\n    </tr>\n    <tr>\n      <th>pct_low</th>\n      <td>-2771.088768</td>\n      <td>34.007490</td>\n      <td>0.142111</td>\n      <td>1477</td>\n    </tr>\n    <tr>\n      <th>pct_close</th>\n      <td>-2853.914087</td>\n      <td>33.916199</td>\n      <td>0.114989</td>\n      <td>1477</td>\n    </tr>\n    <tr>\n      <th>pct_hilo</th>\n      <td>-2259.876546</td>\n      <td>13.213917</td>\n      <td>1.818153</td>\n      <td>1477</td>\n    </tr>\n    <tr>\n      <th>pct_opclo</th>\n      <td>-2555.452122</td>\n      <td>23.408814</td>\n      <td>-0.048146</td>\n      <td>1477</td>\n    </tr>\n  </tbody>\n</table>\n</div>"
     },
     "execution_count": 8,
     "metadata": {},
     "output_type": "execute_result"
    }
   ],
   "source": [
    "rows = []\n",
    "#tickers=pd.Series(data=['MS']).append(tickers)\n",
    "#tickers=pd.Series(data=['BYND']).append(tickers)\n",
    "#tickers=pd.Series(data=['DIS']).append(tickers)\n",
    "\n",
    "step = 0\n",
    "steps = 201\n",
    "time_last = time.time()\n",
    "for tk in tickers:\n",
    "    ticker, df = query_symbol(tk, conn)\n",
    "    for pr in prices:\n",
    "        if(len(df.index)<800):\n",
    "            continue\n",
    "        if step % steps == 0:\n",
    "            print(\"fitting symbol: \", tk, \"  for price: \", pr, \"len(df): \", len(df.index))\n",
    "            time_now = time.time()\n",
    "            time_spent = time_now - time_last\n",
    "            time_last = time_now\n",
    "            formatted = \"{:.2f}\".format(time_spent)\n",
    "            print(steps, \" executed in \", formatted, \" secs\")\n",
    "        am = arch_model(df[pr], p=1, o=1, q=1, dist=\"StudentsT\", rescale=False)\n",
    "        res = am.fit(disp='off')\n",
    "        if res.convergence_flag != 0:\n",
    "            continue\n",
    "        forecasts = res.forecast(reindex=False)\n",
    "        row = [tk, pr, res.loglikelihood, ann_var(forecasts.variance['h.1'].iloc[0])\n",
    "               ,forecasts.mean['h.1'].iloc[0], res.nobs]\n",
    "        rows.append(row)\n",
    "        step += 1\n",
    "    cmp = pd.DataFrame(rows, columns=['ticker', 'price', 'lhood', 'volatilty', 'mean', 'nobs'])\n",
    "\n",
    "compare = cmp.set_index(['ticker', 'price'])\n",
    "compare.head(36)"
   ]
  },
  {
   "cell_type": "code",
   "execution_count": 9,
   "metadata": {
    "pycharm": {
     "name": "#%%\n"
    }
   },
   "outputs": [
    {
     "name": "stdout",
     "output_type": "stream",
     "text": [
      "2489  rows processed in  1.45  minutes.\n",
      "28.62  rows processed per second.\n"
     ]
    }
   ],
   "source": [
    "total_rows = len(cmp.index)\n",
    "time_now = time.time()\n",
    "elapsed_sec = time_now - start_time\n",
    "elapsed_min = elapsed_sec/60.\n",
    "elapsed_minf = \"{:.2f}\".format(elapsed_min)\n",
    "elapsed_secf = \"{:.2f}\".format(elapsed_sec)\n",
    "print(total_rows, \" rows processed in \", elapsed_minf, \" minutes.\")\n",
    "rows_per_sec = total_rows/elapsed_sec\n",
    "rows_per_secf = \"{:.2f}\".format(rows_per_sec)\n",
    "print(rows_per_secf, \" rows processed per second.\")"
   ]
  },
  {
   "cell_type": "code",
   "execution_count": 10,
   "metadata": {
    "pycharm": {
     "name": "#%%\n"
    }
   },
   "outputs": [
    {
     "data": {
      "text/plain": "<AxesSubplot:ylabel='Frequency'>"
     },
     "execution_count": 10,
     "metadata": {},
     "output_type": "execute_result"
    },
    {
     "data": {
      "text/plain": "<Figure size 432x288 with 1 Axes>",
      "image/png": "[encoded data removed]"
     },
     "metadata": {
      "needs_background": "light"
     },
     "output_type": "display_data"
    }
   ],
   "source": [
    "compare[['lhood']].plot(bins=100, kind='hist')"
   ]
  },
  {
   "cell_type": "code",
   "execution_count": 11,
   "metadata": {
    "pycharm": {
     "name": "#%%\n"
    }
   },
   "outputs": [
    {
     "data": {
      "text/plain": "<AxesSubplot:ylabel='Frequency'>"
     },
     "execution_count": 11,
     "metadata": {},
     "output_type": "execute_result"
    },
    {
     "data": {
      "text/plain": "<Figure size 432x288 with 1 Axes>",
      "image/png": "[encoded data removed]"
     },
     "metadata": {
      "needs_background": "light"
     },
     "output_type": "display_data"
    }
   ],
   "source": [
    "compare[['volatilty']].plot(bins=100, kind='hist')"
   ]
  },
  {
   "cell_type": "code",
   "execution_count": 12,
   "metadata": {
    "pycharm": {
     "name": "#%%\n"
    }
   },
   "outputs": [],
   "source": [
    "conn.close()"
   ]
  }
 ],
 "metadata": {
  "kernelspec": {
   "display_name": "Python 3",
   "language": "python",
   "name": "python3"
  },
  "language_info": {
   "codemirror_mode": {
    "name": "ipython",
    "version": 3
   },
   "file_extension": ".py",
   "mimetype": "text/x-python",
   "name": "python",
   "nbconvert_exporter": "python",
   "pygments_lexer": "ipython3",
   "version": "3.8.8"
  }
 },
 "nbformat": 4,
 "nbformat_minor": 1
}