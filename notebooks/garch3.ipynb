{
 "cells": [
  {
   "cell_type": "markdown",
   "metadata": {},
   "source": [
    "### Compare fits for pct_high, pct_low, ... etc"
   ]
  },
  {
   "cell_type": "markdown",
   "source": [
    "#### 'Disabling' numba has no effect\n",
    "import os\n",
    "check = os.environ.get(\"ARCH_DISABLE_NUMBA\", True)"
   ],
   "metadata": {
    "collapsed": false,
    "pycharm": {
     "name": "#%% md\n"
    }
   }
  },
  {
   "cell_type": "code",
   "metadata": {
    "pycharm": {
     "name": "#%%\n"
    },
    "ExecuteTime": {
     "end_time": "2024-07-31T04:24:20.573342Z",
     "start_time": "2024-07-31T04:24:20.571471Z"
    }
   },
   "source": [
    "import time\n",
    "\n",
    "import numpy as np\n",
    "\n",
    "start_time = time.time()"
   ],
   "outputs": [],
   "execution_count": 37
  },
  {
   "cell_type": "code",
   "metadata": {
    "pycharm": {
     "name": "#%%\n"
    },
    "ExecuteTime": {
     "end_time": "2024-07-31T04:24:20.603243Z",
     "start_time": "2024-07-31T04:24:20.598797Z"
    }
   },
   "source": [
    "from sqlalchemy import create_engine\n",
    "engine = create_engine('mysql+pymysql://localhost',\n",
    "                       connect_args={'read_default_file': '~/.myuseq.cnf'})\n",
    "conn = engine.connect()"
   ],
   "outputs": [],
   "execution_count": 38
  },
  {
   "cell_type": "code",
   "metadata": {
    "pycharm": {
     "name": "#%%\n"
    },
    "ExecuteTime": {
     "end_time": "2024-07-31T04:24:22.522712Z",
     "start_time": "2024-07-31T04:24:20.604293Z"
    }
   },
   "source": [
    "num_stocks=\"100\"\n",
    "\n",
    "import pandas as pd\n",
    "tck_qry = pd.read_sql_query('''select distinct us.symbol, avg(us.volume*us.close) from USEQ_2021 us\n",
    "join useq.US_syms_with_options USWO on us.symbol = USWO.Symbol\n",
    "    group by us.symbol order by avg(us.volume*us.close) desc limit ''' + num_stocks,\n",
    "                            conn)\n",
    "tdf = pd.DataFrame(tck_qry, columns=['symbol'])\n",
    "tickers = tdf['symbol']\n",
    "prices = [\"pct_open\", \"pct_high\", \"pct_low\", \"pct_close\",\n",
    "          'pct_hilo', 'pct_opclo']\n",
    "#prices = [\"pct_hilo\"]"
   ],
   "outputs": [],
   "execution_count": 39
  },
  {
   "cell_type": "code",
   "metadata": {
    "pycharm": {
     "name": "#%%\n"
    },
    "ExecuteTime": {
     "end_time": "2024-07-31T04:24:22.527574Z",
     "start_time": "2024-07-31T04:24:22.524020Z"
    }
   },
   "source": [
    "sql_diff = time.time() - start_time\n",
    "formatted_diff = \"{:.2f}\".format(sql_diff)\n",
    "print(\"sql executed in \", formatted_diff, \" secs\")"
   ],
   "outputs": [
    {
     "name": "stdout",
     "output_type": "stream",
     "text": [
      "sql executed in  1.95  secs\n"
     ]
    }
   ],
   "execution_count": 40
  },
  {
   "cell_type": "code",
   "metadata": {
    "pycharm": {
     "name": "#%%\n"
    },
    "ExecuteTime": {
     "end_time": "2024-07-31T04:24:22.539406Z",
     "start_time": "2024-07-31T04:24:22.530072Z"
    }
   },
   "source": [
    "def query_symbol(sym, conn):\n",
    "    qry = pd.read_sql_query(\n",
    "        '''select tradedate, pct_open, pct_high, pct_low, pct_close,\n",
    "         pct_hilo, pct_opclo from USEQ_HIST\n",
    "        where symbol=\"''' + sym + '''\"\n",
    "        and volume>0\n",
    "         order by tradedate''',\n",
    "        conn,\n",
    "        index_col='tradedate'\n",
    "    )\n",
    "    return sym, pd.DataFrame(qry, columns=prices)"
   ],
   "outputs": [],
   "execution_count": 41
  },
  {
   "cell_type": "code",
   "metadata": {
    "pycharm": {
     "name": "#%%\n"
    },
    "ExecuteTime": {
     "end_time": "2024-07-31T04:24:22.545060Z",
     "start_time": "2024-07-31T04:24:22.539954Z"
    }
   },
   "source": [
    "import math\n",
    "def ann_var(var):\n",
    "    return (math.sqrt((var)*252))"
   ],
   "outputs": [],
   "execution_count": 42
  },
  {
   "cell_type": "code",
   "metadata": {
    "pycharm": {
     "name": "#%%\n"
    },
    "ExecuteTime": {
     "end_time": "2024-07-31T04:24:22.550273Z",
     "start_time": "2024-07-31T04:24:22.545736Z"
    }
   },
   "source": [
    "from arch import arch_model"
   ],
   "outputs": [],
   "execution_count": 43
  },
  {
   "cell_type": "code",
   "metadata": {
    "pycharm": {
     "name": "#%%\n"
    },
    "ExecuteTime": {
     "end_time": "2024-07-31T04:24:49.320828Z",
     "start_time": "2024-07-31T04:24:22.551436Z"
    }
   },
   "source": [
    "rows = []\n",
    "tickers=pd.concat([pd.Series(data='DFS'), tickers])\n",
    "#tickers=pd.Series(data=['MS']).append(tickers)\n",
    "#tickers=pd.Series(data=['BYND']).append(tickers)\n",
    "#tickers=pd.Series(data=['DIS']).append(tickers)\n",
    "# do_output=True\n",
    "do_output=False\n",
    "step = 0\n",
    "steps = 201\n",
    "time_last = time.time()\n",
    "for tk in tickers:\n",
    "    ticker, df = query_symbol(tk, conn)\n",
    "    for pr in prices:\n",
    "        if(len(df.index)<800):\n",
    "#            print(\"length = \",len(df.index),\" for \",tk)\n",
    "            continue\n",
    "        \n",
    "        if do_output == True:\n",
    "            if step % steps == 0:\n",
    "                print(\"fitting symbol: \", tk, \"  for price: \", pr, \"len(df): \", len(df.index))\n",
    "                time_now = time.time()\n",
    "                time_spent = time_now - time_last\n",
    "                time_last = time_now\n",
    "                formatted = \"{:.2f}\".format(time_spent)\n",
    "                print(steps, \" executed in \", formatted, \" secs\")\n",
    "        am = arch_model(df[pr], p=1, o=1, q=1, dist=\"StudentsT\", rescale=False)\n",
    "        res = am.fit(disp='off')\n",
    "        if res.convergence_flag != 0:\n",
    "            continue\n",
    "        forecasts = res.forecast(reindex=False)\n",
    "        row = [tk, pr, res.loglikelihood, ann_var(forecasts.variance['h.1'].iloc[0])\n",
    "               ,forecasts.mean['h.1'].iloc[0], res.nobs]\n",
    "        rows.append(row)\n",
    "        step += 1\n",
    "    cmp = pd.DataFrame(rows, columns=['ticker', 'price', 'lhood', 'volatilty', 'mean', 'nobs'])\n",
    "\n",
    "compare = cmp.set_index(['ticker', 'price'])\n",
    "compare.head(36)"
   ],
   "outputs": [
    {
     "name": "stderr",
     "output_type": "stream",
     "text": [
      "/home/kimwoodle/mambaforge/envs/volatility/lib/python3.12/site-packages/arch/univariate/base.py:766: ConvergenceWarning: The optimizer returned code 8. The message is:\n",
      "Positive directional derivative for linesearch\n",
      "See scipy.optimize.fmin_slsqp for code meaning.\n",
      "\n",
      "  warnings.warn(\n"
     ]
    },
    {
     "data": {
      "text/plain": [
       "                         lhood   volatilty      mean  nobs\n",
       "ticker price                                              \n",
       "DFS    pct_open   -9399.338106   42.312415  0.054313  4510\n",
       "       pct_high   -8824.546881   40.327438  0.078234  4510\n",
       "       pct_low    -9203.280274   42.256482  0.055787  4510\n",
       "       pct_close  -9472.969273   40.627320  0.073425  4510\n",
       "       pct_hilo   -7930.575391   20.937531  1.864886  4510\n",
       "       pct_opclo  -8653.701043   23.467644 -0.032793  4510\n",
       "SPY    pct_open   -7748.362427   29.599416  0.055104  5913\n",
       "       pct_high   -6730.472920   32.092785  0.067322  5913\n",
       "       pct_low    -7585.706241   26.135830  0.042162  5913\n",
       "       pct_close  -7897.897292   29.772746  0.058552  5913\n",
       "       pct_hilo   -5888.805344    6.295220  0.907056  5913\n",
       "       pct_opclo  -6702.675012    7.217330 -0.036120  5913\n",
       "TSLA   pct_open   -9179.528292  307.629862  0.158493  3528\n",
       "       pct_high   -8795.423955  279.898993  0.101971  3528\n",
       "       pct_low    -8919.997658  295.340375  0.205263  3528\n",
       "       pct_close  -9103.191205  229.110607  0.147160  3528\n",
       "       pct_hilo   -7460.655970   33.905427  3.543043  3528\n",
       "       pct_opclo  -8464.695511   43.155019  0.007222  3528\n",
       "QQQ    pct_open   -9587.765747   71.346065  0.094519  5913\n",
       "       pct_high   -8509.193015   71.183812  0.103463  5913\n",
       "       pct_low    -9290.795757   67.668023  0.074618  5913\n",
       "       pct_close  -9608.389589   72.730186  0.093587  5913\n",
       "       pct_hilo   -7493.861189    7.630758  1.225640  5913\n",
       "       pct_opclo  -8556.908748   11.155495 -0.042967  5913\n",
       "AAPL   pct_open  -12485.841975  150.764125  0.149630  5913\n",
       "       pct_high  -11505.082940  148.373559  0.121376  5913\n",
       "       pct_low   -11931.721796  149.259706  0.152882  5913\n",
       "       pct_close -12360.846217  155.968281  0.133655  5913\n",
       "       pct_hilo  -10259.182559   15.970322  1.866501  5913\n",
       "       pct_opclo -11235.160120   25.668641 -0.056319  5913\n",
       "MSFT   pct_open  -10601.407062   74.809149  0.060628  5913\n",
       "       pct_high   -9853.737035   82.134690  0.068717  5913\n",
       "       pct_low   -10120.318578   82.778452  0.061979  5913\n",
       "       pct_close -10820.309065   94.254270  0.063954  5913\n",
       "       pct_hilo   -8124.336735   11.982724  1.598389  5913\n",
       "       pct_opclo  -9620.689855   16.807892 -0.033979  5913"
      ],
      "text/html": [
       "<div>\n",
       "<style scoped>\n",
       "    .dataframe tbody tr th:only-of-type {\n",
       "        vertical-align: middle;\n",
       "    }\n",
       "\n",
       "    .dataframe tbody tr th {\n",
       "        vertical-align: top;\n",
       "    }\n",
       "\n",
       "    .dataframe thead th {\n",
       "        text-align: right;\n",
       "    }\n",
       "</style>\n",
       "<table border=\"1\" class=\"dataframe\">\n",
       "  <thead>\n",
       "    <tr style=\"text-align: right;\">\n",
       "      <th></th>\n",
       "      <th></th>\n",
       "      <th>lhood</th>\n",
       "      <th>volatilty</th>\n",
       "      <th>mean</th>\n",
       "      <th>nobs</th>\n",
       "    </tr>\n",
       "    <tr>\n",
       "      <th>ticker</th>\n",
       "      <th>price</th>\n",
       "      <th></th>\n",
       "      <th></th>\n",
       "      <th></th>\n",
       "      <th></th>\n",
       "    </tr>\n",
       "  </thead>\n",
       "  <tbody>\n",
       "    <tr>\n",
       "      <th rowspan=\"6\" valign=\"top\">DFS</th>\n",
       "      <th>pct_open</th>\n",
       "      <td>-9399.338106</td>\n",
       "      <td>42.312415</td>\n",
       "      <td>0.054313</td>\n",
       "      <td>4510</td>\n",
       "    </tr>\n",
       "    <tr>\n",
       "      <th>pct_high</th>\n",
       "      <td>-8824.546881</td>\n",
       "      <td>40.327438</td>\n",
       "      <td>0.078234</td>\n",
       "      <td>4510</td>\n",
       "    </tr>\n",
       "    <tr>\n",
       "      <th>pct_low</th>\n",
       "      <td>-9203.280274</td>\n",
       "      <td>42.256482</td>\n",
       "      <td>0.055787</td>\n",
       "      <td>4510</td>\n",
       "    </tr>\n",
       "    <tr>\n",
       "      <th>pct_close</th>\n",
       "      <td>-9472.969273</td>\n",
       "      <td>40.627320</td>\n",
       "      <td>0.073425</td>\n",
       "      <td>4510</td>\n",
       "    </tr>\n",
       "    <tr>\n",
       "      <th>pct_hilo</th>\n",
       "      <td>-7930.575391</td>\n",
       "      <td>20.937531</td>\n",
       "      <td>1.864886</td>\n",
       "      <td>4510</td>\n",
       "    </tr>\n",
       "    <tr>\n",
       "      <th>pct_opclo</th>\n",
       "      <td>-8653.701043</td>\n",
       "      <td>23.467644</td>\n",
       "      <td>-0.032793</td>\n",
       "      <td>4510</td>\n",
       "    </tr>\n",
       "    <tr>\n",
       "      <th rowspan=\"6\" valign=\"top\">SPY</th>\n",
       "      <th>pct_open</th>\n",
       "      <td>-7748.362427</td>\n",
       "      <td>29.599416</td>\n",
       "      <td>0.055104</td>\n",
       "      <td>5913</td>\n",
       "    </tr>\n",
       "    <tr>\n",
       "      <th>pct_high</th>\n",
       "      <td>-6730.472920</td>\n",
       "      <td>32.092785</td>\n",
       "      <td>0.067322</td>\n",
       "      <td>5913</td>\n",
       "    </tr>\n",
       "    <tr>\n",
       "      <th>pct_low</th>\n",
       "      <td>-7585.706241</td>\n",
       "      <td>26.135830</td>\n",
       "      <td>0.042162</td>\n",
       "      <td>5913</td>\n",
       "    </tr>\n",
       "    <tr>\n",
       "      <th>pct_close</th>\n",
       "      <td>-7897.897292</td>\n",
       "      <td>29.772746</td>\n",
       "      <td>0.058552</td>\n",
       "      <td>5913</td>\n",
       "    </tr>\n",
       "    <tr>\n",
       "      <th>pct_hilo</th>\n",
       "      <td>-5888.805344</td>\n",
       "      <td>6.295220</td>\n",
       "      <td>0.907056</td>\n",
       "      <td>5913</td>\n",
       "    </tr>\n",
       "    <tr>\n",
       "      <th>pct_opclo</th>\n",
       "      <td>-6702.675012</td>\n",
       "      <td>7.217330</td>\n",
       "      <td>-0.036120</td>\n",
       "      <td>5913</td>\n",
       "    </tr>\n",
       "    <tr>\n",
       "      <th rowspan=\"6\" valign=\"top\">TSLA</th>\n",
       "      <th>pct_open</th>\n",
       "      <td>-9179.528292</td>\n",
       "      <td>307.629862</td>\n",
       "      <td>0.158493</td>\n",
       "      <td>3528</td>\n",
       "    </tr>\n",
       "    <tr>\n",
       "      <th>pct_high</th>\n",
       "      <td>-8795.423955</td>\n",
       "      <td>279.898993</td>\n",
       "      <td>0.101971</td>\n",
       "      <td>3528</td>\n",
       "    </tr>\n",
       "    <tr>\n",
       "      <th>pct_low</th>\n",
       "      <td>-8919.997658</td>\n",
       "      <td>295.340375</td>\n",
       "      <td>0.205263</td>\n",
       "      <td>3528</td>\n",
       "    </tr>\n",
       "    <tr>\n",
       "      <th>pct_close</th>\n",
       "      <td>-9103.191205</td>\n",
       "      <td>229.110607</td>\n",
       "      <td>0.147160</td>\n",
       "      <td>3528</td>\n",
       "    </tr>\n",
       "    <tr>\n",
       "      <th>pct_hilo</th>\n",
       "      <td>-7460.655970</td>\n",
       "      <td>33.905427</td>\n",
       "      <td>3.543043</td>\n",
       "      <td>3528</td>\n",
       "    </tr>\n",
       "    <tr>\n",
       "      <th>pct_opclo</th>\n",
       "      <td>-8464.695511</td>\n",
       "      <td>43.155019</td>\n",
       "      <td>0.007222</td>\n",
       "      <td>3528</td>\n",
       "    </tr>\n",
       "    <tr>\n",
       "      <th rowspan=\"6\" valign=\"top\">QQQ</th>\n",
       "      <th>pct_open</th>\n",
       "      <td>-9587.765747</td>\n",
       "      <td>71.346065</td>\n",
       "      <td>0.094519</td>\n",
       "      <td>5913</td>\n",
       "    </tr>\n",
       "    <tr>\n",
       "      <th>pct_high</th>\n",
       "      <td>-8509.193015</td>\n",
       "      <td>71.183812</td>\n",
       "      <td>0.103463</td>\n",
       "      <td>5913</td>\n",
       "    </tr>\n",
       "    <tr>\n",
       "      <th>pct_low</th>\n",
       "      <td>-9290.795757</td>\n",
       "      <td>67.668023</td>\n",
       "      <td>0.074618</td>\n",
       "      <td>5913</td>\n",
       "    </tr>\n",
       "    <tr>\n",
       "      <th>pct_close</th>\n",
       "      <td>-9608.389589</td>\n",
       "      <td>72.730186</td>\n",
       "      <td>0.093587</td>\n",
       "      <td>5913</td>\n",
       "    </tr>\n",
       "    <tr>\n",
       "      <th>pct_hilo</th>\n",
       "      <td>-7493.861189</td>\n",
       "      <td>7.630758</td>\n",
       "      <td>1.225640</td>\n",
       "      <td>5913</td>\n",
       "    </tr>\n",
       "    <tr>\n",
       "      <th>pct_opclo</th>\n",
       "      <td>-8556.908748</td>\n",
       "      <td>11.155495</td>\n",
       "      <td>-0.042967</td>\n",
       "      <td>5913</td>\n",
       "    </tr>\n",
       "    <tr>\n",
       "      <th rowspan=\"6\" valign=\"top\">AAPL</th>\n",
       "      <th>pct_open</th>\n",
       "      <td>-12485.841975</td>\n",
       "      <td>150.764125</td>\n",
       "      <td>0.149630</td>\n",
       "      <td>5913</td>\n",
       "    </tr>\n",
       "    <tr>\n",
       "      <th>pct_high</th>\n",
       "      <td>-11505.082940</td>\n",
       "      <td>148.373559</td>\n",
       "      <td>0.121376</td>\n",
       "      <td>5913</td>\n",
       "    </tr>\n",
       "    <tr>\n",
       "      <th>pct_low</th>\n",
       "      <td>-11931.721796</td>\n",
       "      <td>149.259706</td>\n",
       "      <td>0.152882</td>\n",
       "      <td>5913</td>\n",
       "    </tr>\n",
       "    <tr>\n",
       "      <th>pct_close</th>\n",
       "      <td>-12360.846217</td>\n",
       "      <td>155.968281</td>\n",
       "      <td>0.133655</td>\n",
       "      <td>5913</td>\n",
       "    </tr>\n",
       "    <tr>\n",
       "      <th>pct_hilo</th>\n",
       "      <td>-10259.182559</td>\n",
       "      <td>15.970322</td>\n",
       "      <td>1.866501</td>\n",
       "      <td>5913</td>\n",
       "    </tr>\n",
       "    <tr>\n",
       "      <th>pct_opclo</th>\n",
       "      <td>-11235.160120</td>\n",
       "      <td>25.668641</td>\n",
       "      <td>-0.056319</td>\n",
       "      <td>5913</td>\n",
       "    </tr>\n",
       "    <tr>\n",
       "      <th rowspan=\"6\" valign=\"top\">MSFT</th>\n",
       "      <th>pct_open</th>\n",
       "      <td>-10601.407062</td>\n",
       "      <td>74.809149</td>\n",
       "      <td>0.060628</td>\n",
       "      <td>5913</td>\n",
       "    </tr>\n",
       "    <tr>\n",
       "      <th>pct_high</th>\n",
       "      <td>-9853.737035</td>\n",
       "      <td>82.134690</td>\n",
       "      <td>0.068717</td>\n",
       "      <td>5913</td>\n",
       "    </tr>\n",
       "    <tr>\n",
       "      <th>pct_low</th>\n",
       "      <td>-10120.318578</td>\n",
       "      <td>82.778452</td>\n",
       "      <td>0.061979</td>\n",
       "      <td>5913</td>\n",
       "    </tr>\n",
       "    <tr>\n",
       "      <th>pct_close</th>\n",
       "      <td>-10820.309065</td>\n",
       "      <td>94.254270</td>\n",
       "      <td>0.063954</td>\n",
       "      <td>5913</td>\n",
       "    </tr>\n",
       "    <tr>\n",
       "      <th>pct_hilo</th>\n",
       "      <td>-8124.336735</td>\n",
       "      <td>11.982724</td>\n",
       "      <td>1.598389</td>\n",
       "      <td>5913</td>\n",
       "    </tr>\n",
       "    <tr>\n",
       "      <th>pct_opclo</th>\n",
       "      <td>-9620.689855</td>\n",
       "      <td>16.807892</td>\n",
       "      <td>-0.033979</td>\n",
       "      <td>5913</td>\n",
       "    </tr>\n",
       "  </tbody>\n",
       "</table>\n",
       "</div>"
      ]
     },
     "execution_count": 44,
     "metadata": {},
     "output_type": "execute_result"
    }
   ],
   "execution_count": 44
  },
  {
   "cell_type": "code",
   "metadata": {
    "pycharm": {
     "name": "#%%\n"
    },
    "ExecuteTime": {
     "end_time": "2024-07-31T04:24:49.324339Z",
     "start_time": "2024-07-31T04:24:49.321741Z"
    }
   },
   "source": [
    "total_rows = len(cmp.index)\n",
    "time_now = time.time()\n",
    "elapsed_sec = time_now - start_time\n",
    "elapsed_min = elapsed_sec/60.\n",
    "elapsed_minf = \"{:.2f}\".format(elapsed_min)\n",
    "elapsed_secf = \"{:.2f}\".format(elapsed_sec)\n",
    "print(total_rows, \" rows processed in \", elapsed_minf, \" minutes.\")\n",
    "rows_per_sec = total_rows/elapsed_sec\n",
    "rows_per_secf = \"{:.2f}\".format(rows_per_sec)\n",
    "print(rows_per_secf, \" rows processed per second.\")"
   ],
   "outputs": [
    {
     "name": "stdout",
     "output_type": "stream",
     "text": [
      "593  rows processed in  0.48  minutes.\n",
      "20.63  rows processed per second.\n"
     ]
    }
   ],
   "execution_count": 45
  },
  {
   "cell_type": "code",
   "metadata": {
    "pycharm": {
     "name": "#%%\n"
    },
    "ExecuteTime": {
     "end_time": "2024-07-31T04:24:49.529365Z",
     "start_time": "2024-07-31T04:24:49.325254Z"
    }
   },
   "source": "compare[['lhood']].plot(bins=100, kind='hist')",
   "outputs": [
    {
     "data": {
      "text/plain": [
       "<Axes: ylabel='Frequency'>"
      ]
     },
     "execution_count": 46,
     "metadata": {},
     "output_type": "execute_result"
    },
    {
     "data": {
      "text/plain": [
       "<Figure size 640x480 with 1 Axes>"
      ],
      "image/png": "[encoded data removed]"
     },
     "metadata": {},
     "output_type": "display_data"
    }
   ],
   "execution_count": 46
  },
  {
   "cell_type": "code",
   "metadata": {
    "pycharm": {
     "name": "#%%\n"
    },
    "ExecuteTime": {
     "end_time": "2024-07-31T04:24:49.717149Z",
     "start_time": "2024-07-31T04:24:49.530752Z"
    }
   },
   "source": [
    "compare[['volatilty']].plot(bins=100, kind='hist')"
   ],
   "outputs": [
    {
     "data": {
      "text/plain": [
       "<Axes: ylabel='Frequency'>"
      ]
     },
     "execution_count": 47,
     "metadata": {},
     "output_type": "execute_result"
    },
    {
     "data": {
      "text/plain": [
       "<Figure size 640x480 with 1 Axes>"
      ],
      "image/png": "[encoded data removed]"
     },
     "metadata": {},
     "output_type": "display_data"
    }
   ],
   "execution_count": 47
  },
  {
   "cell_type": "code",
   "metadata": {
    "pycharm": {
     "name": "#%%\n"
    },
    "ExecuteTime": {
     "end_time": "2024-07-31T04:24:49.720902Z",
     "start_time": "2024-07-31T04:24:49.717870Z"
    }
   },
   "source": [
    "conn.close()"
   ],
   "outputs": [],
   "execution_count": 48
  }
 ],
 "metadata": {
  "kernelspec": {
   "display_name": "Python 3",
   "language": "python",
   "name": "python3"
  },
  "language_info": {
   "codemirror_mode": {
    "name": "ipython",
    "version": 3
   },
   "file_extension": ".py",
   "mimetype": "text/x-python",
   "name": "python",
   "nbconvert_exporter": "python",
   "pygments_lexer": "ipython3",
   "version": "3.8.8"
  }
 },
 "nbformat": 4,
 "nbformat_minor": 1
}
