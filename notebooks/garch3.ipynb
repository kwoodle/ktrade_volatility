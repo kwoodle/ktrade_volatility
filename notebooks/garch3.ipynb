{
 "cells": [
  {
   "cell_type": "markdown",
   "source": [
    "### Modify garch2.ipynb"
   ],
   "metadata": {
    "collapsed": false
   }
  },
  {
   "cell_type": "code",
   "execution_count": 1,
   "outputs": [],
   "source": [
    "import pandas as pd\n",
    "from sqlalchemy import create_engine\n",
    "\n",
    "engine = create_engine('mysql+pymysql://localhost',\n",
    "                       connect_args={'read_default_file': '~/.mytest.cnf'})\n",
    "conn = engine.connect()"
   ],
   "metadata": {
    "collapsed": false,
    "pycharm": {
     "name": "#%%\n"
    }
   }
  },
  {
   "cell_type": "code",
   "execution_count": 2,
   "outputs": [],
   "source": [
    "def query_symbol(sym, col, conn):\n",
    "    qry = pd.read_sql_query(\n",
    "        '''select tradedate, ''' + col + ''' from USEQ_HIST\n",
    "        where symbol=\"''' + sym + '''\"\n",
    "        and volume>0\n",
    "         order by tradedate''',\n",
    "        conn,\n",
    "        index_col='tradedate'\n",
    "    )\n",
    "    return pd.DataFrame(qry, columns=[col])"
   ],
   "metadata": {
    "collapsed": false,
    "pycharm": {
     "name": "#%%\n"
    }
   }
  },
  {
   "cell_type": "code",
   "execution_count": 3,
   "outputs": [
    {
     "data": {
      "text/plain": "            pct_close\ntradedate            \n2016-01-04   -1.03741\n2016-01-05   -0.63532\n2016-01-06   -2.49361\n2016-01-07   -4.98361\n2016-01-08   -2.07039",
      "text/html": "<div>\n<style scoped>\n    .dataframe tbody tr th:only-of-type {\n        vertical-align: middle;\n    }\n\n    .dataframe tbody tr th {\n        vertical-align: top;\n    }\n\n    .dataframe thead th {\n        text-align: right;\n    }\n</style>\n<table border=\"1\" class=\"dataframe\">\n  <thead>\n    <tr style=\"text-align: right;\">\n      <th></th>\n      <th>pct_close</th>\n    </tr>\n    <tr>\n      <th>tradedate</th>\n      <th></th>\n    </tr>\n  </thead>\n  <tbody>\n    <tr>\n      <th>2016-01-04</th>\n      <td>-1.03741</td>\n    </tr>\n    <tr>\n      <th>2016-01-05</th>\n      <td>-0.63532</td>\n    </tr>\n    <tr>\n      <th>2016-01-06</th>\n      <td>-2.49361</td>\n    </tr>\n    <tr>\n      <th>2016-01-07</th>\n      <td>-4.98361</td>\n    </tr>\n    <tr>\n      <th>2016-01-08</th>\n      <td>-2.07039</td>\n    </tr>\n  </tbody>\n</table>\n</div>"
     },
     "execution_count": 3,
     "metadata": {},
     "output_type": "execute_result"
    }
   ],
   "source": [
    "dfcl = query_symbol(\"MS\", \"pct_close\", conn)\n",
    "dfcl.head()"
   ],
   "metadata": {
    "collapsed": false,
    "pycharm": {
     "name": "#%%\n"
    }
   }
  },
  {
   "cell_type": "code",
   "execution_count": 4,
   "outputs": [
    {
     "data": {
      "text/plain": "            pct_open\ntradedate           \n2016-01-04  -3.48946\n2016-01-05   2.54071\n2016-01-06  -2.70013\n2016-01-07  -2.44858\n2016-01-08  -1.57296",
      "text/html": "<div>\n<style scoped>\n    .dataframe tbody tr th:only-of-type {\n        vertical-align: middle;\n    }\n\n    .dataframe tbody tr th {\n        vertical-align: top;\n    }\n\n    .dataframe thead th {\n        text-align: right;\n    }\n</style>\n<table border=\"1\" class=\"dataframe\">\n  <thead>\n    <tr style=\"text-align: right;\">\n      <th></th>\n      <th>pct_open</th>\n    </tr>\n    <tr>\n      <th>tradedate</th>\n      <th></th>\n    </tr>\n  </thead>\n  <tbody>\n    <tr>\n      <th>2016-01-04</th>\n      <td>-3.48946</td>\n    </tr>\n    <tr>\n      <th>2016-01-05</th>\n      <td>2.54071</td>\n    </tr>\n    <tr>\n      <th>2016-01-06</th>\n      <td>-2.70013</td>\n    </tr>\n    <tr>\n      <th>2016-01-07</th>\n      <td>-2.44858</td>\n    </tr>\n    <tr>\n      <th>2016-01-08</th>\n      <td>-1.57296</td>\n    </tr>\n  </tbody>\n</table>\n</div>"
     },
     "execution_count": 4,
     "metadata": {},
     "output_type": "execute_result"
    }
   ],
   "source": [
    "dfop = query_symbol(\"MS\", \"pct_open\", conn)\n",
    "dfop.head()"
   ],
   "metadata": {
    "collapsed": false,
    "pycharm": {
     "name": "#%%\n"
    }
   }
  },
  {
   "cell_type": "code",
   "execution_count": 4,
   "outputs": [],
   "source": [],
   "metadata": {
    "collapsed": false,
    "pycharm": {
     "name": "#%%\n"
    }
   }
  },
  {
   "cell_type": "code",
   "execution_count": 5,
   "outputs": [],
   "source": [
    "from arch import arch_model"
   ],
   "metadata": {
    "collapsed": false,
    "pycharm": {
     "name": "#%%\n"
    }
   }
  },
  {
   "cell_type": "markdown",
   "source": [
    "#### GJR-Garch with Student's T"
   ],
   "metadata": {
    "collapsed": false
   }
  },
  {
   "cell_type": "code",
   "execution_count": 6,
   "outputs": [
    {
     "name": "stdout",
     "output_type": "stream",
     "text": [
      "Optimization terminated successfully.    (Exit mode 0)\n",
      "            Current function value: 2807.591628440884\n",
      "            Iterations: 18\n",
      "            Function evaluations: 160\n",
      "            Gradient evaluations: 18\n",
      "                      Constant Mean - GJR-GARCH Model Results                       \n",
      "====================================================================================\n",
      "Dep. Variable:                    pct_close   R-squared:                       0.000\n",
      "Mean Model:                   Constant Mean   Adj. R-squared:                  0.000\n",
      "Vol Model:                        GJR-GARCH   Log-Likelihood:               -2807.59\n",
      "Distribution:      Standardized Student's t   AIC:                           5627.18\n",
      "Method:                  Maximum Likelihood   BIC:                           5658.82\n",
      "                                              No. Observations:                 1440\n",
      "Date:                      Mon, Sep 27 2021   Df Residuals:                     1439\n",
      "Time:                              13:53:00   Df Model:                            1\n",
      "                                Mean Model                                \n",
      "==========================================================================\n",
      "                 coef    std err          t      P>|t|    95.0% Conf. Int.\n",
      "--------------------------------------------------------------------------\n",
      "mu             0.0807  3.900e-02      2.069  3.850e-02 [4.271e-03,  0.157]\n",
      "                              Volatility Model                              \n",
      "============================================================================\n",
      "                 coef    std err          t      P>|t|      95.0% Conf. Int.\n",
      "----------------------------------------------------------------------------\n",
      "omega          0.1546  6.077e-02      2.544  1.096e-02   [3.550e-02,  0.274]\n",
      "alpha[1]       0.0324  1.508e-02      2.149  3.166e-02 [2.846e-03,6.196e-02]\n",
      "gamma[1]       0.1674  5.047e-02      3.318  9.075e-04   [6.852e-02,  0.266]\n",
      "beta[1]        0.8490  4.036e-02     21.034  3.201e-98     [  0.770,  0.928]\n",
      "                              Distribution                              \n",
      "========================================================================\n",
      "                 coef    std err          t      P>|t|  95.0% Conf. Int.\n",
      "------------------------------------------------------------------------\n",
      "nu             5.5165      0.760      7.263  3.781e-13 [  4.028,  7.005]\n",
      "========================================================================\n",
      "\n",
      "Covariance estimator: robust\n",
      "likelihood  -2807.591628440884\n"
     ]
    }
   ],
   "source": [
    "am = arch_model(dfcl, p=1, o=1, q=1, dist=\"StudentsT\")\n",
    "res = am.fit(update_freq=0)\n",
    "print(res.summary())\n",
    "print(\"likelihood \",res.loglikelihood)"
   ],
   "metadata": {
    "collapsed": false,
    "pycharm": {
     "name": "#%%\n"
    }
   }
  },
  {
   "cell_type": "code",
   "execution_count": 7,
   "outputs": [
    {
     "name": "stdout",
     "output_type": "stream",
     "text": [
      "Optimization terminated successfully.    (Exit mode 0)\n",
      "            Current function value: 2846.398218171269\n",
      "            Iterations: 11\n",
      "            Function evaluations: 103\n",
      "            Gradient evaluations: 11\n",
      "                      Constant Mean - GJR-GARCH Model Results                       \n",
      "====================================================================================\n",
      "Dep. Variable:                     pct_open   R-squared:                       0.000\n",
      "Mean Model:                   Constant Mean   Adj. R-squared:                  0.000\n",
      "Vol Model:                        GJR-GARCH   Log-Likelihood:               -2846.40\n",
      "Distribution:      Standardized Student's t   AIC:                           5704.80\n",
      "Method:                  Maximum Likelihood   BIC:                           5736.43\n",
      "                                              No. Observations:                 1440\n",
      "Date:                      Mon, Sep 27 2021   Df Residuals:                     1439\n",
      "Time:                              13:53:00   Df Model:                            1\n",
      "                                 Mean Model                                \n",
      "===========================================================================\n",
      "                 coef    std err          t      P>|t|     95.0% Conf. Int.\n",
      "---------------------------------------------------------------------------\n",
      "mu             0.0751  4.082e-02      1.840  6.584e-02 [-4.916e-03,  0.155]\n",
      "                               Volatility Model                              \n",
      "=============================================================================\n",
      "                 coef    std err          t      P>|t|       95.0% Conf. Int.\n",
      "-----------------------------------------------------------------------------\n",
      "omega          0.1021  3.843e-02      2.658  7.871e-03    [2.681e-02,  0.177]\n",
      "alpha[1]       0.0260  1.691e-02      1.535      0.125 [-7.192e-03,5.910e-02]\n",
      "gamma[1]       0.1315  3.303e-02      3.981  6.854e-05    [6.677e-02,  0.196]\n",
      "beta[1]        0.8846  2.664e-02     33.202 1.000e-241      [  0.832,  0.937]\n",
      "                              Distribution                              \n",
      "========================================================================\n",
      "                 coef    std err          t      P>|t|  95.0% Conf. Int.\n",
      "------------------------------------------------------------------------\n",
      "nu             6.9090      1.161      5.949  2.705e-09 [  4.633,  9.185]\n",
      "========================================================================\n",
      "\n",
      "Covariance estimator: robust\n",
      "likelihood  -2846.398218171269\n"
     ]
    }
   ],
   "source": [
    "am = arch_model(dfop, p=1, o=1, q=1, dist=\"StudentsT\")\n",
    "res = am.fit(update_freq=0)\n",
    "print(res.summary())\n",
    "print(\"likelihood \",res.loglikelihood)\n",
    "\n",
    "\n"
   ],
   "metadata": {
    "collapsed": false,
    "pycharm": {
     "name": "#%%\n"
    }
   }
  }
 ],
 "metadata": {
  "kernelspec": {
   "display_name": "Python 3",
   "language": "python",
   "name": "python3"
  },
  "language_info": {
   "codemirror_mode": {
    "name": "ipython",
    "version": 2
   },
   "file_extension": ".py",
   "mimetype": "text/x-python",
   "name": "python",
   "nbconvert_exporter": "python",
   "pygments_lexer": "ipython2",
   "version": "2.7.6"
  }
 },
 "nbformat": 4,
 "nbformat_minor": 0
}