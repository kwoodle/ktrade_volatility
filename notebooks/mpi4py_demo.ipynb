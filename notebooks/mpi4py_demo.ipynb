{
 "cells": [
  {
   "cell_type": "code",
   "id": "initial_id",
   "metadata": {
    "collapsed": true,
    "ExecuteTime": {
     "end_time": "2024-07-20T01:27:51.438672Z",
     "start_time": "2024-07-20T01:27:51.434515Z"
    }
   },
   "source": [
    "from mpi4py import MPI\n",
    "import numpy\n",
    "\n",
    "def matvec(comm, A, x):\n",
    "    m = A.shape[0] # local rows\n",
    "    p = comm.Get_size()\n",
    "    xg = numpy.zeros(m*p, dtype='d')\n",
    "    comm.Allgather([x,  MPI.DOUBLE],\n",
    "                   [xg, MPI.DOUBLE])\n",
    "    y = numpy.dot(A, xg)\n",
    "    return y\n"
   ],
   "outputs": [],
   "execution_count": 3
  },
  {
   "metadata": {},
   "cell_type": "code",
   "outputs": [],
   "execution_count": null,
   "source": "",
   "id": "9c0f322a295475ab"
  }
 ],
 "metadata": {
  "kernelspec": {
   "display_name": "Python 3",
   "language": "python",
   "name": "python3"
  },
  "language_info": {
   "codemirror_mode": {
    "name": "ipython",
    "version": 2
   },
   "file_extension": ".py",
   "mimetype": "text/x-python",
   "name": "python",
   "nbconvert_exporter": "python",
   "pygments_lexer": "ipython2",
   "version": "2.7.6"
  }
 },
 "nbformat": 4,
 "nbformat_minor": 5
}
