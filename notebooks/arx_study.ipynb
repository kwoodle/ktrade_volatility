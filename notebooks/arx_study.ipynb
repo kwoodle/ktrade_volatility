{
 "cells": [
  {
   "cell_type": "markdown",
   "source": [
    "### Mean model with lags = [1,5,22] using pct_high (or pct_low?) gives higher log likelihood than GJR with pct_close"
   ],
   "metadata": {
    "collapsed": false
   }
  },
  {
   "cell_type": "code",
   "execution_count": 31,
   "metadata": {
    "collapsed": true
   },
   "outputs": [],
   "source": [
    "from sqlalchemy import create_engine\n",
    "\n",
    "engine = create_engine('mysql+pymysql://localhost',\n",
    "                       connect_args={'read_default_file': '~/.myuseq.cnf'})\n",
    "conn = engine.connect()"
   ]
  },
  {
   "cell_type": "code",
   "execution_count": 32,
   "outputs": [],
   "source": [
    "import pandas as pd\n",
    "\n",
    "tck_qry = pd.read_sql_query('''select distinct us.symbol, avg(us.volume*us.close) as vwp from USE_2021 us\n",
    "join test.US_SymsWithOptions USWO on us.symbol = USWO.Symbol\n",
    "where USWO.`Symbol Type` = 'Equity'\n",
    "    group by us.symbol having vwp > 50000000. order by vwp desc limit 50''',\n",
    "                            conn)\n",
    "tdf = pd.DataFrame(tck_qry, columns=['symbol'])\n",
    "tickers = tdf['symbol']\n",
    "prices = [\"pct_open\", \"pct_high\", \"pct_low\", \"pct_close\"]\n",
    "# prices = [\"pct_open\", \"pct_high\", \"pct_low\", \"pct_close\",\n",
    "#           'pct_hilo', 'pct_opclo']"
   ],
   "metadata": {
    "collapsed": false,
    "pycharm": {
     "name": "#%%\n"
    }
   }
  },
  {
   "cell_type": "code",
   "execution_count": 33,
   "outputs": [],
   "source": [
    "def query_symbol(sym, conn):\n",
    "    qry = pd.read_sql_query(\n",
    "        '''select tradedate, pct_open, pct_high, pct_low, pct_close,\n",
    "         pct_hilo, pct_opclo from USEQ_HIST\n",
    "        where symbol=\"''' + sym + '''\"\n",
    "        and volume>0\n",
    "         order by tradedate''',\n",
    "        conn,\n",
    "        index_col='tradedate'\n",
    "    )\n",
    "    return sym, pd.DataFrame(qry, columns=prices)"
   ],
   "metadata": {
    "collapsed": false,
    "pycharm": {
     "name": "#%%\n"
    }
   }
  },
  {
   "cell_type": "code",
   "execution_count": 34,
   "outputs": [],
   "source": [
    "import math\n",
    "def ann_var(var):\n",
    "    return (math.sqrt((var)*252))\n"
   ],
   "metadata": {
    "collapsed": false,
    "pycharm": {
     "name": "#%%\n"
    }
   }
  },
  {
   "cell_type": "code",
   "execution_count": 35,
   "outputs": [],
   "source": [
    "from arch.univariate import ARX, GARCH, StudentsT\n",
    "\n",
    "from arch import arch_model\n",
    "def gjr(df):\n",
    "    return \"gjr\", arch_model(df, rescale=False, p=1, o=1, q=1, dist=\"StudentsT\")\n",
    "def arx(df):\n",
    "    am=ARX(df, rescale=False, lags=[1,5,22], constant=True)\n",
    "    am.volatility = GARCH(1,1,1)\n",
    "    am.distribution = StudentsT()\n",
    "    return \"arx\", am\n",
    "\n"
   ],
   "metadata": {
    "collapsed": false,
    "pycharm": {
     "name": "#%%\n"
    }
   }
  },
  {
   "cell_type": "code",
   "execution_count": 36,
   "outputs": [],
   "source": [
    "rows = []\n",
    "tickers=pd.Series(data=['dfs'])\n",
    "#tickers=pd.Series(data=['AMC']).append(tickers)\n",
    "# tickers=pd.Series(data=['DFS']).append(tickers)\n",
    "\n",
    "for tk in tickers:\n",
    "    ticker, dft = query_symbol(tk, conn)\n",
    "    for pr in prices:\n",
    "        if(len(dft.index)<800):\n",
    "            continue\n",
    "        df = dft[pr]\n",
    "        for str, am in (gjr(df), arx(df)):\n",
    "            res = am.fit(disp='off')\n",
    "            if res.convergence_flag != 0:\n",
    "                continue\n",
    "            forecasts = res.forecast(reindex=False)\n",
    "            lhood = res.loglikelihood\n",
    "            if str == 'arx':\n",
    "                nnobs = res.nobs\n",
    "                lhood = lhood*(nnobs/(nnobs - 22))\n",
    "            row = [tk, str, pr, lhood, ann_var(forecasts.variance['h.1'].iloc[0])\n",
    "               ,forecasts.mean['h.1'].iloc[0], res.nobs]\n",
    "            rows.append(row)\n",
    "    cmp = pd.DataFrame(rows, columns=['ticker', 'model', 'price', 'lhood', 'volatilty', 'mean', 'nobs'])\n",
    "\n",
    "compare = cmp.set_index(['ticker', 'model', 'price'])"
   ],
   "metadata": {
    "collapsed": false,
    "pycharm": {
     "name": "#%%\n"
    }
   }
  },
  {
   "cell_type": "code",
   "execution_count": 37,
   "outputs": [
    {
     "data": {
      "text/plain": "<pandas.io.formats.style.Styler at 0x7efd54cfd9d0>",
      "text/html": "<style  type=\"text/css\" >\n#T_61063f9a_4595_11ec_9f40_7b040a58a8e1row0_col3,#T_61063f9a_4595_11ec_9f40_7b040a58a8e1row2_col3,#T_61063f9a_4595_11ec_9f40_7b040a58a8e1row3_col0,#T_61063f9a_4595_11ec_9f40_7b040a58a8e1row3_col2,#T_61063f9a_4595_11ec_9f40_7b040a58a8e1row4_col3,#T_61063f9a_4595_11ec_9f40_7b040a58a8e1row6_col1,#T_61063f9a_4595_11ec_9f40_7b040a58a8e1row6_col3{\n            color: red;\n        }</style><table id=\"T_61063f9a_4595_11ec_9f40_7b040a58a8e1\" ><thead>    <tr>        <th class=\"blank\" ></th>        <th class=\"blank\" ></th>        <th class=\"blank level0\" ></th>        <th class=\"col_heading level0 col0\" >lhood</th>        <th class=\"col_heading level0 col1\" >volatilty</th>        <th class=\"col_heading level0 col2\" >mean</th>        <th class=\"col_heading level0 col3\" >nobs</th>    </tr>    <tr>        <th class=\"index_name level0\" >ticker</th>        <th class=\"index_name level1\" >model</th>        <th class=\"index_name level2\" >price</th>        <th class=\"blank\" ></th>        <th class=\"blank\" ></th>        <th class=\"blank\" ></th>        <th class=\"blank\" ></th>    </tr></thead><tbody>\n                <tr>\n                        <th id=\"T_61063f9a_4595_11ec_9f40_7b040a58a8e1level0_row0\" class=\"row_heading level0 row0\" rowspan=8>dfs</th>\n                        <th id=\"T_61063f9a_4595_11ec_9f40_7b040a58a8e1level1_row0\" class=\"row_heading level1 row0\" >gjr</th>\n                        <th id=\"T_61063f9a_4595_11ec_9f40_7b040a58a8e1level2_row0\" class=\"row_heading level2 row0\" >pct_open</th>\n                        <td id=\"T_61063f9a_4595_11ec_9f40_7b040a58a8e1row0_col0\" class=\"data row0 col0\" >-5060.010227</td>\n                        <td id=\"T_61063f9a_4595_11ec_9f40_7b040a58a8e1row0_col1\" class=\"data row0 col1\" >30.280661</td>\n                        <td id=\"T_61063f9a_4595_11ec_9f40_7b040a58a8e1row0_col2\" class=\"data row0 col2\" >0.071515</td>\n                        <td id=\"T_61063f9a_4595_11ec_9f40_7b040a58a8e1row0_col3\" class=\"data row0 col3\" >2733</td>\n            </tr>\n            <tr>\n                                <th id=\"T_61063f9a_4595_11ec_9f40_7b040a58a8e1level1_row1\" class=\"row_heading level1 row1\" >arx</th>\n                        <th id=\"T_61063f9a_4595_11ec_9f40_7b040a58a8e1level2_row1\" class=\"row_heading level2 row1\" >pct_open</th>\n                        <td id=\"T_61063f9a_4595_11ec_9f40_7b040a58a8e1row1_col0\" class=\"data row1 col0\" >-5059.295867</td>\n                        <td id=\"T_61063f9a_4595_11ec_9f40_7b040a58a8e1row1_col1\" class=\"data row1 col1\" >30.242360</td>\n                        <td id=\"T_61063f9a_4595_11ec_9f40_7b040a58a8e1row1_col2\" class=\"data row1 col2\" >-0.017152</td>\n                        <td id=\"T_61063f9a_4595_11ec_9f40_7b040a58a8e1row1_col3\" class=\"data row1 col3\" >2711</td>\n            </tr>\n            <tr>\n                                <th id=\"T_61063f9a_4595_11ec_9f40_7b040a58a8e1level1_row2\" class=\"row_heading level1 row2\" >gjr</th>\n                        <th id=\"T_61063f9a_4595_11ec_9f40_7b040a58a8e1level2_row2\" class=\"row_heading level2 row2\" >pct_high</th>\n                        <td id=\"T_61063f9a_4595_11ec_9f40_7b040a58a8e1row2_col0\" class=\"data row2 col0\" >-4736.283615</td>\n                        <td id=\"T_61063f9a_4595_11ec_9f40_7b040a58a8e1row2_col1\" class=\"data row2 col1\" >28.450890</td>\n                        <td id=\"T_61063f9a_4595_11ec_9f40_7b040a58a8e1row2_col2\" class=\"data row2 col2\" >0.085613</td>\n                        <td id=\"T_61063f9a_4595_11ec_9f40_7b040a58a8e1row2_col3\" class=\"data row2 col3\" >2733</td>\n            </tr>\n            <tr>\n                                <th id=\"T_61063f9a_4595_11ec_9f40_7b040a58a8e1level1_row3\" class=\"row_heading level1 row3\" >arx</th>\n                        <th id=\"T_61063f9a_4595_11ec_9f40_7b040a58a8e1level2_row3\" class=\"row_heading level2 row3\" >pct_high</th>\n                        <td id=\"T_61063f9a_4595_11ec_9f40_7b040a58a8e1row3_col0\" class=\"data row3 col0\" >-4719.305897</td>\n                        <td id=\"T_61063f9a_4595_11ec_9f40_7b040a58a8e1row3_col1\" class=\"data row3 col1\" >28.497538</td>\n                        <td id=\"T_61063f9a_4595_11ec_9f40_7b040a58a8e1row3_col2\" class=\"data row3 col2\" >0.109902</td>\n                        <td id=\"T_61063f9a_4595_11ec_9f40_7b040a58a8e1row3_col3\" class=\"data row3 col3\" >2711</td>\n            </tr>\n            <tr>\n                                <th id=\"T_61063f9a_4595_11ec_9f40_7b040a58a8e1level1_row4\" class=\"row_heading level1 row4\" >gjr</th>\n                        <th id=\"T_61063f9a_4595_11ec_9f40_7b040a58a8e1level2_row4\" class=\"row_heading level2 row4\" >pct_low</th>\n                        <td id=\"T_61063f9a_4595_11ec_9f40_7b040a58a8e1row4_col0\" class=\"data row4 col0\" >-4983.909424</td>\n                        <td id=\"T_61063f9a_4595_11ec_9f40_7b040a58a8e1row4_col1\" class=\"data row4 col1\" >30.225881</td>\n                        <td id=\"T_61063f9a_4595_11ec_9f40_7b040a58a8e1row4_col2\" class=\"data row4 col2\" >0.068382</td>\n                        <td id=\"T_61063f9a_4595_11ec_9f40_7b040a58a8e1row4_col3\" class=\"data row4 col3\" >2733</td>\n            </tr>\n            <tr>\n                                <th id=\"T_61063f9a_4595_11ec_9f40_7b040a58a8e1level1_row5\" class=\"row_heading level1 row5\" >arx</th>\n                        <th id=\"T_61063f9a_4595_11ec_9f40_7b040a58a8e1level2_row5\" class=\"row_heading level2 row5\" >pct_low</th>\n                        <td id=\"T_61063f9a_4595_11ec_9f40_7b040a58a8e1row5_col0\" class=\"data row5 col0\" >-4974.708783</td>\n                        <td id=\"T_61063f9a_4595_11ec_9f40_7b040a58a8e1row5_col1\" class=\"data row5 col1\" >30.214854</td>\n                        <td id=\"T_61063f9a_4595_11ec_9f40_7b040a58a8e1row5_col2\" class=\"data row5 col2\" >0.087220</td>\n                        <td id=\"T_61063f9a_4595_11ec_9f40_7b040a58a8e1row5_col3\" class=\"data row5 col3\" >2711</td>\n            </tr>\n            <tr>\n                                <th id=\"T_61063f9a_4595_11ec_9f40_7b040a58a8e1level1_row6\" class=\"row_heading level1 row6\" >gjr</th>\n                        <th id=\"T_61063f9a_4595_11ec_9f40_7b040a58a8e1level2_row6\" class=\"row_heading level2 row6\" >pct_close</th>\n                        <td id=\"T_61063f9a_4595_11ec_9f40_7b040a58a8e1row6_col0\" class=\"data row6 col0\" >-5137.926891</td>\n                        <td id=\"T_61063f9a_4595_11ec_9f40_7b040a58a8e1row6_col1\" class=\"data row6 col1\" >32.813765</td>\n                        <td id=\"T_61063f9a_4595_11ec_9f40_7b040a58a8e1row6_col2\" class=\"data row6 col2\" >0.083219</td>\n                        <td id=\"T_61063f9a_4595_11ec_9f40_7b040a58a8e1row6_col3\" class=\"data row6 col3\" >2733</td>\n            </tr>\n            <tr>\n                                <th id=\"T_61063f9a_4595_11ec_9f40_7b040a58a8e1level1_row7\" class=\"row_heading level1 row7\" >arx</th>\n                        <th id=\"T_61063f9a_4595_11ec_9f40_7b040a58a8e1level2_row7\" class=\"row_heading level2 row7\" >pct_close</th>\n                        <td id=\"T_61063f9a_4595_11ec_9f40_7b040a58a8e1row7_col0\" class=\"data row7 col0\" >-5137.382371</td>\n                        <td id=\"T_61063f9a_4595_11ec_9f40_7b040a58a8e1row7_col1\" class=\"data row7 col1\" >32.726650</td>\n                        <td id=\"T_61063f9a_4595_11ec_9f40_7b040a58a8e1row7_col2\" class=\"data row7 col2\" >0.038604</td>\n                        <td id=\"T_61063f9a_4595_11ec_9f40_7b040a58a8e1row7_col3\" class=\"data row7 col3\" >2711</td>\n            </tr>\n    </tbody></table>"
     },
     "execution_count": 37,
     "metadata": {},
     "output_type": "execute_result"
    }
   ],
   "source": [
    "import numpy as np\n",
    "def highlight_max(s, props=''):\n",
    "    return np.where(s == np.nanmax(s.values), props, '')\n",
    "s2 = compare.style\n",
    "s2.apply(highlight_max, props='color:red', axis=0)\n",
    "\n",
    "\n"
   ],
   "metadata": {
    "collapsed": false,
    "pycharm": {
     "name": "#%%\n"
    }
   }
  }
 ],
 "metadata": {
  "kernelspec": {
   "display_name": "Python 3",
   "language": "python",
   "name": "python3"
  },
  "language_info": {
   "codemirror_mode": {
    "name": "ipython",
    "version": 2
   },
   "file_extension": ".py",
   "mimetype": "text/x-python",
   "name": "python",
   "nbconvert_exporter": "python",
   "pygments_lexer": "ipython2",
   "version": "2.7.6"
  }
 },
 "nbformat": 4,
 "nbformat_minor": 0
}