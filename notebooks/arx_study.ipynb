{
 "cells": [
  {
   "cell_type": "markdown",
   "source": [
    "### Mean model with lags = [1,5,22] using pct_high gives lower log likelihood than GJR with pct_close"
   ],
   "metadata": {
    "collapsed": false
   }
  },
  {
   "cell_type": "code",
   "execution_count": 98,
   "metadata": {
    "collapsed": true
   },
   "outputs": [],
   "source": [
    "from sqlalchemy import create_engine\n",
    "\n",
    "engine = create_engine('mysql+pymysql://localhost',\n",
    "                       connect_args={'read_default_file': '~/.mytest.cnf'})\n",
    "conn = engine.connect()"
   ]
  },
  {
   "cell_type": "code",
   "execution_count": 99,
   "outputs": [],
   "source": [
    "import pandas as pd\n",
    "\n",
    "tck_qry = pd.read_sql_query('''select distinct us.symbol, avg(us.volume*us.close) from USE_2021 us\n",
    "join US_SymsWithOptions USWO on us.symbol = USWO.Symbol\n",
    "where USWO.`Symbol Type` = 'Equity'\n",
    "    group by us.symbol order by avg(us.volume*us.close) desc limit 50''',\n",
    "                            conn)\n",
    "tdf = pd.DataFrame(tck_qry, columns=['symbol'])\n",
    "tickers = tdf['symbol']\n",
    "prices = [\"pct_open\", \"pct_high\", \"pct_low\", \"pct_close\"]\n",
    "# prices = [\"pct_open\", \"pct_high\", \"pct_low\", \"pct_close\",\n",
    "#           'pct_hilo', 'pct_opclo']"
   ],
   "metadata": {
    "collapsed": false,
    "pycharm": {
     "name": "#%%\n"
    }
   }
  },
  {
   "cell_type": "code",
   "execution_count": 100,
   "outputs": [],
   "source": [
    "def query_symbol(sym, conn):\n",
    "    qry = pd.read_sql_query(\n",
    "        '''select tradedate, pct_open, pct_high, pct_low, pct_close,\n",
    "         pct_hilo, pct_opclo from USEQ_HIST\n",
    "        where symbol=\"''' + sym + '''\"\n",
    "        and volume>0\n",
    "         order by tradedate''',\n",
    "        conn,\n",
    "        index_col='tradedate'\n",
    "    )\n",
    "    return sym, pd.DataFrame(qry, columns=prices)"
   ],
   "metadata": {
    "collapsed": false,
    "pycharm": {
     "name": "#%%\n"
    }
   }
  },
  {
   "cell_type": "code",
   "execution_count": 101,
   "outputs": [],
   "source": [
    "import math\n",
    "def ann_var(var):\n",
    "    return (math.sqrt((var)*252))\n"
   ],
   "metadata": {
    "collapsed": false,
    "pycharm": {
     "name": "#%%\n"
    }
   }
  },
  {
   "cell_type": "code",
   "execution_count": 102,
   "outputs": [],
   "source": [
    "from arch.univariate import ARX, GARCH, StudentsT\n",
    "\n",
    "from arch import arch_model\n",
    "def gjr(df):\n",
    "    return \"gjr\", arch_model(df, rescale=False, p=1, o=1, q=1, dist=\"StudentsT\")\n",
    "def arx(df):\n",
    "    am=ARX(df, rescale=False, lags=[1,5,22], constant=True)\n",
    "    am.volatility = GARCH(1,1,1)\n",
    "    am.distribution = StudentsT()\n",
    "    return \"arx\", am\n",
    "\n"
   ],
   "metadata": {
    "collapsed": false,
    "pycharm": {
     "name": "#%%\n"
    }
   }
  },
  {
   "cell_type": "code",
   "execution_count": 103,
   "outputs": [
    {
     "data": {
      "text/plain": "                              lhood  volatilty      mean  nobs\nticker model price                                            \nTSLA   gjr   pct_open  -3743.207729  47.734052  0.161600  1468\n       arx   pct_open  -3744.960593  48.101799  0.180110  1446\n       gjr   pct_high  -3591.419980  71.636216  0.168396  1468\n       arx   pct_high  -3580.401205  67.559279  0.887676  1446\n       gjr   pct_low   -3637.192561  42.350703  0.237877  1468\n       arx   pct_low   -3619.478782  39.330864  0.466653  1446\n       gjr   pct_close -3709.211032  50.450455  0.190670  1468\n       arx   pct_close -3707.187974  51.618713  0.034125  1446\nAAPL   gjr   pct_open  -2700.213162  21.779809  0.162901  1468\n       arx   pct_open  -2686.278407  21.901612  0.257523  1446\n       gjr   pct_high  -2484.354531  23.924716  0.137673  1468\n       arx   pct_high  -2467.223190  24.904504 -0.091659  1446\n       gjr   pct_low   -2619.972295  25.384211  0.179015  1468\n       arx   pct_low   -2604.626199  25.942039 -0.012638  1446\n       gjr   pct_close -2693.329445  23.236471  0.145183  1468\n       arx   pct_close -2678.547825  22.896801  0.208354  1446\nAMZN   gjr   pct_open  -2788.366045  33.516284  0.151898  1468\n       arx   pct_open  -2775.596558  33.365221  0.271391  1446\n       gjr   pct_high  -2560.122360  31.860321  0.137003  1468\n       arx   pct_high  -2525.908450  33.105431 -0.375041  1446\n       gjr   pct_low   -2717.380566  30.737718  0.145348  1468\n       arx   pct_low   -2694.805536  31.274647 -0.135335  1446\n       gjr   pct_close -2736.398015  28.854838  0.138219  1468\n       arx   pct_close -2715.748619  29.035857  0.098887  1446\nMSFT   gjr   pct_open  -2468.375727  16.420729  0.125827  1468\n       arx   pct_open  -2454.756370  16.398028  0.152767  1446\n       gjr   pct_high  -2231.751939  17.799973  0.143952  1468\n       arx   pct_high  -2219.732981  18.084902  0.243105  1446\n       gjr   pct_low   -2388.346367  14.970530  0.126529  1468\n       arx   pct_low   -2371.967765  14.894590  0.171411  1446\n       gjr   pct_close -2508.753730  19.410783  0.126804  1468\n       arx   pct_close -2485.190164  20.532631 -0.048478  1446\nFB     gjr   pct_open  -2874.550425  36.601126  0.117026  1468\n       arx   pct_open  -2857.909117  37.220473 -0.028625  1446\n       gjr   pct_high  -2633.329773  31.072540  0.102749  1468\n       arx   pct_high  -2615.371423  30.136992  0.118690  1446\n       gjr   pct_low   -2752.865517  38.754396  0.142233  1468\n       arx   pct_low   -2730.063040  39.229451  0.353165  1446\n       gjr   pct_close -2837.396062  40.486181  0.114709  1468\n       arx   pct_close -2817.572212  39.613023 -0.045115  1446",
      "text/html": "<div>\n<style scoped>\n    .dataframe tbody tr th:only-of-type {\n        vertical-align: middle;\n    }\n\n    .dataframe tbody tr th {\n        vertical-align: top;\n    }\n\n    .dataframe thead th {\n        text-align: right;\n    }\n</style>\n<table border=\"1\" class=\"dataframe\">\n  <thead>\n    <tr style=\"text-align: right;\">\n      <th></th>\n      <th></th>\n      <th></th>\n      <th>lhood</th>\n      <th>volatilty</th>\n      <th>mean</th>\n      <th>nobs</th>\n    </tr>\n    <tr>\n      <th>ticker</th>\n      <th>model</th>\n      <th>price</th>\n      <th></th>\n      <th></th>\n      <th></th>\n      <th></th>\n    </tr>\n  </thead>\n  <tbody>\n    <tr>\n      <th rowspan=\"8\" valign=\"top\">TSLA</th>\n      <th>gjr</th>\n      <th>pct_open</th>\n      <td>-3743.207729</td>\n      <td>47.734052</td>\n      <td>0.161600</td>\n      <td>1468</td>\n    </tr>\n    <tr>\n      <th>arx</th>\n      <th>pct_open</th>\n      <td>-3744.960593</td>\n      <td>48.101799</td>\n      <td>0.180110</td>\n      <td>1446</td>\n    </tr>\n    <tr>\n      <th>gjr</th>\n      <th>pct_high</th>\n      <td>-3591.419980</td>\n      <td>71.636216</td>\n      <td>0.168396</td>\n      <td>1468</td>\n    </tr>\n    <tr>\n      <th>arx</th>\n      <th>pct_high</th>\n      <td>-3580.401205</td>\n      <td>67.559279</td>\n      <td>0.887676</td>\n      <td>1446</td>\n    </tr>\n    <tr>\n      <th>gjr</th>\n      <th>pct_low</th>\n      <td>-3637.192561</td>\n      <td>42.350703</td>\n      <td>0.237877</td>\n      <td>1468</td>\n    </tr>\n    <tr>\n      <th>arx</th>\n      <th>pct_low</th>\n      <td>-3619.478782</td>\n      <td>39.330864</td>\n      <td>0.466653</td>\n      <td>1446</td>\n    </tr>\n    <tr>\n      <th>gjr</th>\n      <th>pct_close</th>\n      <td>-3709.211032</td>\n      <td>50.450455</td>\n      <td>0.190670</td>\n      <td>1468</td>\n    </tr>\n    <tr>\n      <th>arx</th>\n      <th>pct_close</th>\n      <td>-3707.187974</td>\n      <td>51.618713</td>\n      <td>0.034125</td>\n      <td>1446</td>\n    </tr>\n    <tr>\n      <th rowspan=\"8\" valign=\"top\">AAPL</th>\n      <th>gjr</th>\n      <th>pct_open</th>\n      <td>-2700.213162</td>\n      <td>21.779809</td>\n      <td>0.162901</td>\n      <td>1468</td>\n    </tr>\n    <tr>\n      <th>arx</th>\n      <th>pct_open</th>\n      <td>-2686.278407</td>\n      <td>21.901612</td>\n      <td>0.257523</td>\n      <td>1446</td>\n    </tr>\n    <tr>\n      <th>gjr</th>\n      <th>pct_high</th>\n      <td>-2484.354531</td>\n      <td>23.924716</td>\n      <td>0.137673</td>\n      <td>1468</td>\n    </tr>\n    <tr>\n      <th>arx</th>\n      <th>pct_high</th>\n      <td>-2467.223190</td>\n      <td>24.904504</td>\n      <td>-0.091659</td>\n      <td>1446</td>\n    </tr>\n    <tr>\n      <th>gjr</th>\n      <th>pct_low</th>\n      <td>-2619.972295</td>\n      <td>25.384211</td>\n      <td>0.179015</td>\n      <td>1468</td>\n    </tr>\n    <tr>\n      <th>arx</th>\n      <th>pct_low</th>\n      <td>-2604.626199</td>\n      <td>25.942039</td>\n      <td>-0.012638</td>\n      <td>1446</td>\n    </tr>\n    <tr>\n      <th>gjr</th>\n      <th>pct_close</th>\n      <td>-2693.329445</td>\n      <td>23.236471</td>\n      <td>0.145183</td>\n      <td>1468</td>\n    </tr>\n    <tr>\n      <th>arx</th>\n      <th>pct_close</th>\n      <td>-2678.547825</td>\n      <td>22.896801</td>\n      <td>0.208354</td>\n      <td>1446</td>\n    </tr>\n    <tr>\n      <th rowspan=\"8\" valign=\"top\">AMZN</th>\n      <th>gjr</th>\n      <th>pct_open</th>\n      <td>-2788.366045</td>\n      <td>33.516284</td>\n      <td>0.151898</td>\n      <td>1468</td>\n    </tr>\n    <tr>\n      <th>arx</th>\n      <th>pct_open</th>\n      <td>-2775.596558</td>\n      <td>33.365221</td>\n      <td>0.271391</td>\n      <td>1446</td>\n    </tr>\n    <tr>\n      <th>gjr</th>\n      <th>pct_high</th>\n      <td>-2560.122360</td>\n      <td>31.860321</td>\n      <td>0.137003</td>\n      <td>1468</td>\n    </tr>\n    <tr>\n      <th>arx</th>\n      <th>pct_high</th>\n      <td>-2525.908450</td>\n      <td>33.105431</td>\n      <td>-0.375041</td>\n      <td>1446</td>\n    </tr>\n    <tr>\n      <th>gjr</th>\n      <th>pct_low</th>\n      <td>-2717.380566</td>\n      <td>30.737718</td>\n      <td>0.145348</td>\n      <td>1468</td>\n    </tr>\n    <tr>\n      <th>arx</th>\n      <th>pct_low</th>\n      <td>-2694.805536</td>\n      <td>31.274647</td>\n      <td>-0.135335</td>\n      <td>1446</td>\n    </tr>\n    <tr>\n      <th>gjr</th>\n      <th>pct_close</th>\n      <td>-2736.398015</td>\n      <td>28.854838</td>\n      <td>0.138219</td>\n      <td>1468</td>\n    </tr>\n    <tr>\n      <th>arx</th>\n      <th>pct_close</th>\n      <td>-2715.748619</td>\n      <td>29.035857</td>\n      <td>0.098887</td>\n      <td>1446</td>\n    </tr>\n    <tr>\n      <th rowspan=\"8\" valign=\"top\">MSFT</th>\n      <th>gjr</th>\n      <th>pct_open</th>\n      <td>-2468.375727</td>\n      <td>16.420729</td>\n      <td>0.125827</td>\n      <td>1468</td>\n    </tr>\n    <tr>\n      <th>arx</th>\n      <th>pct_open</th>\n      <td>-2454.756370</td>\n      <td>16.398028</td>\n      <td>0.152767</td>\n      <td>1446</td>\n    </tr>\n    <tr>\n      <th>gjr</th>\n      <th>pct_high</th>\n      <td>-2231.751939</td>\n      <td>17.799973</td>\n      <td>0.143952</td>\n      <td>1468</td>\n    </tr>\n    <tr>\n      <th>arx</th>\n      <th>pct_high</th>\n      <td>-2219.732981</td>\n      <td>18.084902</td>\n      <td>0.243105</td>\n      <td>1446</td>\n    </tr>\n    <tr>\n      <th>gjr</th>\n      <th>pct_low</th>\n      <td>-2388.346367</td>\n      <td>14.970530</td>\n      <td>0.126529</td>\n      <td>1468</td>\n    </tr>\n    <tr>\n      <th>arx</th>\n      <th>pct_low</th>\n      <td>-2371.967765</td>\n      <td>14.894590</td>\n      <td>0.171411</td>\n      <td>1446</td>\n    </tr>\n    <tr>\n      <th>gjr</th>\n      <th>pct_close</th>\n      <td>-2508.753730</td>\n      <td>19.410783</td>\n      <td>0.126804</td>\n      <td>1468</td>\n    </tr>\n    <tr>\n      <th>arx</th>\n      <th>pct_close</th>\n      <td>-2485.190164</td>\n      <td>20.532631</td>\n      <td>-0.048478</td>\n      <td>1446</td>\n    </tr>\n    <tr>\n      <th rowspan=\"8\" valign=\"top\">FB</th>\n      <th>gjr</th>\n      <th>pct_open</th>\n      <td>-2874.550425</td>\n      <td>36.601126</td>\n      <td>0.117026</td>\n      <td>1468</td>\n    </tr>\n    <tr>\n      <th>arx</th>\n      <th>pct_open</th>\n      <td>-2857.909117</td>\n      <td>37.220473</td>\n      <td>-0.028625</td>\n      <td>1446</td>\n    </tr>\n    <tr>\n      <th>gjr</th>\n      <th>pct_high</th>\n      <td>-2633.329773</td>\n      <td>31.072540</td>\n      <td>0.102749</td>\n      <td>1468</td>\n    </tr>\n    <tr>\n      <th>arx</th>\n      <th>pct_high</th>\n      <td>-2615.371423</td>\n      <td>30.136992</td>\n      <td>0.118690</td>\n      <td>1446</td>\n    </tr>\n    <tr>\n      <th>gjr</th>\n      <th>pct_low</th>\n      <td>-2752.865517</td>\n      <td>38.754396</td>\n      <td>0.142233</td>\n      <td>1468</td>\n    </tr>\n    <tr>\n      <th>arx</th>\n      <th>pct_low</th>\n      <td>-2730.063040</td>\n      <td>39.229451</td>\n      <td>0.353165</td>\n      <td>1446</td>\n    </tr>\n    <tr>\n      <th>gjr</th>\n      <th>pct_close</th>\n      <td>-2837.396062</td>\n      <td>40.486181</td>\n      <td>0.114709</td>\n      <td>1468</td>\n    </tr>\n    <tr>\n      <th>arx</th>\n      <th>pct_close</th>\n      <td>-2817.572212</td>\n      <td>39.613023</td>\n      <td>-0.045115</td>\n      <td>1446</td>\n    </tr>\n  </tbody>\n</table>\n</div>"
     },
     "execution_count": 103,
     "metadata": {},
     "output_type": "execute_result"
    }
   ],
   "source": [
    "rows = []\n",
    "\n",
    "for tk in tickers:\n",
    "    ticker, dft = query_symbol(tk, conn)\n",
    "    for pr in prices:\n",
    "        if(len(dft.index)<800):\n",
    "            continue\n",
    "        df = dft[pr]\n",
    "        for str, am in (gjr(df), arx(df)):\n",
    "            res = am.fit(disp='off')\n",
    "            if res.convergence_flag != 0:\n",
    "                continue\n",
    "            forecasts = res.forecast(reindex=False)\n",
    "            lhood = res.loglikelihood\n",
    "            if str == 'arx':\n",
    "                nnobs = res.nobs\n",
    "                lhood = lhood*(nnobs/(nnobs - 22))\n",
    "            row = [tk, str, pr, lhood, ann_var(forecasts.variance['h.1'].iloc[0])\n",
    "               ,forecasts.mean['h.1'].iloc[0], res.nobs]\n",
    "            rows.append(row)\n",
    "    cmp = pd.DataFrame(rows, columns=['ticker', 'model', 'price', 'lhood', 'volatilty', 'mean', 'nobs'])\n",
    "\n",
    "compare = cmp.set_index(['ticker', 'model', 'price'])\n",
    "compare.head(40)\n",
    "\n"
   ],
   "metadata": {
    "collapsed": false,
    "pycharm": {
     "name": "#%%\n"
    }
   }
  }
 ],
 "metadata": {
  "kernelspec": {
   "display_name": "Python 3",
   "language": "python",
   "name": "python3"
  },
  "language_info": {
   "codemirror_mode": {
    "name": "ipython",
    "version": 2
   },
   "file_extension": ".py",
   "mimetype": "text/x-python",
   "name": "python",
   "nbconvert_exporter": "python",
   "pygments_lexer": "ipython2",
   "version": "2.7.6"
  }
 },
 "nbformat": 4,
 "nbformat_minor": 0
}