{
 "cells": [
  {
   "cell_type": "markdown",
   "metadata": {},
   "source": [
    "### News Impact"
   ]
  },
  {
   "cell_type": "code",
   "source": [
    "%matplotlib inline\n",
    "import matplotlib.pyplot as plt\n",
    "import numpy as np"
   ],
   "metadata": {
    "collapsed": false,
    "pycharm": {
     "name": "#%%\n"
    },
    "ExecuteTime": {
     "end_time": "2024-08-07T01:48:31.339974Z",
     "start_time": "2024-08-07T01:48:31.334896Z"
    }
   },
   "outputs": [],
   "execution_count": 1
  },
  {
   "cell_type": "code",
   "source": [
    "from sqlalchemy import create_engine\n",
    "engine = create_engine('mysql+pymysql://localhost',\n",
    "                       connect_args={'read_default_file': '~/.myuseq.cnf'})\n",
    "conn = engine.connect()"
   ],
   "metadata": {
    "collapsed": false,
    "pycharm": {
     "name": "#%%\n"
    },
    "ExecuteTime": {
     "end_time": "2024-08-07T01:48:31.439338Z",
     "start_time": "2024-08-07T01:48:31.340450Z"
    }
   },
   "outputs": [],
   "execution_count": 2
  },
  {
   "cell_type": "code",
   "source": [
    "import pandas as pd\n",
    "\n",
    "tck_qry = pd.read_sql_query('''select symbol, avg(volume*close) from USEQ_HIST\n",
    "    group by symbol order by avg(volume*close) desc limit 5''',\n",
    "                            conn)\n",
    "tdf = pd.DataFrame(tck_qry, columns=['symbol'])\n",
    "tickers = tdf['symbol']"
   ],
   "metadata": {
    "collapsed": false,
    "pycharm": {
     "name": "#%%\n"
    },
    "ExecuteTime": {
     "end_time": "2024-08-07T01:48:39.764444Z",
     "start_time": "2024-08-07T01:48:31.440347Z"
    }
   },
   "outputs": [],
   "execution_count": 3
  },
  {
   "cell_type": "code",
   "source": [
    "def query_symbol(sym, conn):\n",
    "    qry = pd.read_sql_query(\n",
    "        '''select tradedate, pct_close from USEQ_HIST\n",
    "        where symbol=\"''' + sym + '''\"\n",
    "        and volume>0\n",
    "         order by tradedate''',\n",
    "        conn,\n",
    "        index_col='tradedate'\n",
    "    )\n",
    "    return sym, pd.DataFrame(qry, columns=[\"pct_close\"])"
   ],
   "metadata": {
    "collapsed": false,
    "pycharm": {
     "name": "#%%\n"
    },
    "ExecuteTime": {
     "end_time": "2024-08-07T01:48:39.768624Z",
     "start_time": "2024-08-07T01:48:39.765773Z"
    }
   },
   "outputs": [],
   "execution_count": 4
  },
  {
   "cell_type": "code",
   "source": [
    "import math\n",
    "def ann_var(var):\n",
    "    return (math.sqrt((var)*252))\n",
    "\n",
    "def H_Garch(x, alpha, beta, omega):\n",
    "    A = omega + beta*(omega/(1-alpha-beta))\n",
    "    return A + alpha*(x**2)"
   ],
   "metadata": {
    "collapsed": false,
    "pycharm": {
     "name": "#%%\n"
    },
    "ExecuteTime": {
     "end_time": "2024-08-07T01:48:39.782589Z",
     "start_time": "2024-08-07T01:48:39.769618Z"
    }
   },
   "outputs": [],
   "execution_count": 5
  },
  {
   "cell_type": "code",
   "source": [
    "def H_GJR(x, alpha, gamma, omega, beta):\n",
    "    A = omega + beta*(omega/(1-alpha-(gamma/2)-beta))\n",
    "    if x >=0.0:\n",
    "        return A + alpha*(x**2)\n",
    "    else:\n",
    "        return A + (alpha+gamma)*(x**2)"
   ],
   "metadata": {
    "collapsed": false,
    "pycharm": {
     "name": "#%%\n"
    },
    "ExecuteTime": {
     "end_time": "2024-08-07T01:48:39.788792Z",
     "start_time": "2024-08-07T01:48:39.784130Z"
    }
   },
   "outputs": [],
   "execution_count": 6
  },
  {
   "cell_type": "code",
   "source": [
    "from arch import arch_model\n",
    "x = np.linspace(-5,5,21)\n",
    "ticker, df = query_symbol('MS', conn)\n",
    "am = arch_model(df['pct_close'])\n",
    "res = am.fit(disp='off')\n",
    "forecasts = res.forecast(reindex=False)\n",
    "Omega, Alpha, Beta = [res.params['omega'], res.params['alpha[1]'], res.params['beta[1]']]\n",
    "Mean = forecasts.mean['h.1'].iloc[0]\n",
    "Var = forecasts.variance['h.1'].iloc[0]\n",
    "H = math.sqrt(Var*252)"
   ],
   "metadata": {
    "collapsed": false,
    "pycharm": {
     "name": "#%%\n"
    },
    "ExecuteTime": {
     "end_time": "2024-08-07T01:48:39.879046Z",
     "start_time": "2024-08-07T01:48:39.790097Z"
    }
   },
   "outputs": [],
   "execution_count": 7
  },
  {
   "cell_type": "code",
   "source": [
    "yg = []\n",
    "for xi in x:\n",
    "    yy = H_Garch(xi, Alpha, Omega, Beta)\n",
    "    yg.append(yy + H)\n"
   ],
   "metadata": {
    "collapsed": false,
    "pycharm": {
     "name": "#%%\n"
    },
    "ExecuteTime": {
     "end_time": "2024-08-07T01:48:39.881952Z",
     "start_time": "2024-08-07T01:48:39.879766Z"
    }
   },
   "outputs": [],
   "execution_count": 8
  },
  {
   "cell_type": "code",
   "source": [
    "am = arch_model(df['pct_close'], p=1, o=1, q=1)\n",
    "res = am.fit(disp='off')\n",
    "forecasts = res.forecast(reindex=False)\n",
    "Omega, Alpha, Gamma, Beta = [res.params['omega'], res.params['alpha[1]'], res.params['gamma[1]'], res.params['beta[1]']]\n",
    "Mean = forecasts.mean['h.1'].iloc[0]\n",
    "Var = forecasts.variance['h.1'].iloc[0]"
   ],
   "metadata": {
    "collapsed": false,
    "pycharm": {
     "name": "#%%\n"
    },
    "ExecuteTime": {
     "end_time": "2024-08-07T01:48:39.914621Z",
     "start_time": "2024-08-07T01:48:39.882734Z"
    }
   },
   "outputs": [],
   "execution_count": 9
  },
  {
   "cell_type": "code",
   "source": [
    "y = []\n",
    "for xi in x:\n",
    "    yy = H_GJR(xi, Alpha, Gamma, Omega, Beta)\n",
    "    y.append(yy + H)"
   ],
   "metadata": {
    "collapsed": false,
    "pycharm": {
     "name": "#%%\n"
    },
    "ExecuteTime": {
     "end_time": "2024-08-07T01:48:39.917435Z",
     "start_time": "2024-08-07T01:48:39.915809Z"
    }
   },
   "outputs": [],
   "execution_count": 10
  },
  {
   "cell_type": "code",
   "source": [
    "am = arch_model(df['pct_close'], p=1, o=1, q=1, dist='StudentsT')\n",
    "res = am.fit(disp='off')\n",
    "forecasts = res.forecast(reindex=False)\n",
    "Omega, Alpha, Gamma, Beta = [res.params['omega'], res.params['alpha[1]'], res.params['gamma[1]'], res.params['beta[1]']]\n",
    "Mean = forecasts.mean['h.1'].iloc[0]\n",
    "Var = forecasts.variance['h.1'].iloc[0]\n",
    "H = math.sqrt(Var*252)"
   ],
   "metadata": {
    "collapsed": false,
    "pycharm": {
     "name": "#%%\n"
    },
    "ExecuteTime": {
     "end_time": "2024-08-07T01:48:39.961517Z",
     "start_time": "2024-08-07T01:48:39.917985Z"
    }
   },
   "outputs": [],
   "execution_count": 11
  },
  {
   "cell_type": "code",
   "source": [
    "yt = []\n",
    "for xi in x:\n",
    "    ytt = H_GJR(xi, Alpha, Gamma, Omega, Beta)\n",
    "    yt.append(ytt + H)"
   ],
   "metadata": {
    "collapsed": false,
    "pycharm": {
     "name": "#%%\n"
    },
    "ExecuteTime": {
     "end_time": "2024-08-07T01:48:39.964141Z",
     "start_time": "2024-08-07T01:48:39.962151Z"
    }
   },
   "outputs": [],
   "execution_count": 12
  },
  {
   "cell_type": "code",
   "source": [
    "plt.plot(x,yg, label='GARCH')\n",
    "plt.plot(x,y, label='GJR')\n",
    "plt.plot(x,yt, label='GJR StudentsT')\n",
    "plt.xlabel(r'$\\epsilon$')\n",
    "plt.ylabel('Volatility (pct)')\n",
    "plt.title('News Impact MS')\n",
    "plt.legend(loc='best')\n",
    "plt.grid('both')\n"
   ],
   "metadata": {
    "collapsed": false,
    "pycharm": {
     "name": "#%%\n"
    },
    "ExecuteTime": {
     "end_time": "2024-08-07T01:48:40.214628Z",
     "start_time": "2024-08-07T01:48:39.965132Z"
    }
   },
   "outputs": [
    {
     "data": {
      "text/plain": [
       "<Figure size 640x480 with 1 Axes>"
      ],
      "image/png": "[encoded data removed]"
     },
     "metadata": {},
     "output_type": "display_data"
    }
   ],
   "execution_count": 13
  },
  {
   "cell_type": "code",
   "source": [
    "# see https://youtrack.jetbrains.com/issue/PY-29177\n",
    "import matplotlib.pyplot as plt\n",
    "plt.figure(figsize=(12,18))\n",
    "img = plt.imread('MSNewsImpactOct1.png')\n",
    "plt.title('MS GJR from Volatiltiy Lab')\n",
    "plt.imshow(img)"
   ],
   "metadata": {
    "collapsed": false,
    "pycharm": {
     "name": "#%%\n"
    },
    "ExecuteTime": {
     "end_time": "2024-08-07T01:48:40.781051Z",
     "start_time": "2024-08-07T01:48:40.215532Z"
    }
   },
   "outputs": [
    {
     "ename": "FileNotFoundError",
     "evalue": "[Errno 2] No such file or directory: 'MSNewsImpactOct1.png'",
     "output_type": "error",
     "traceback": [
      "\u001B[0;31m---------------------------------------------------------------------------\u001B[0m",
      "\u001B[0;31mFileNotFoundError\u001B[0m                         Traceback (most recent call last)",
      "Cell \u001B[0;32mIn[14], line 4\u001B[0m\n\u001B[1;32m      2\u001B[0m \u001B[38;5;28;01mimport\u001B[39;00m \u001B[38;5;21;01mmatplotlib\u001B[39;00m\u001B[38;5;21;01m.\u001B[39;00m\u001B[38;5;21;01mpyplot\u001B[39;00m \u001B[38;5;28;01mas\u001B[39;00m \u001B[38;5;21;01mplt\u001B[39;00m\n\u001B[1;32m      3\u001B[0m plt\u001B[38;5;241m.\u001B[39mfigure(figsize\u001B[38;5;241m=\u001B[39m(\u001B[38;5;241m12\u001B[39m,\u001B[38;5;241m18\u001B[39m))\n\u001B[0;32m----> 4\u001B[0m img \u001B[38;5;241m=\u001B[39m plt\u001B[38;5;241m.\u001B[39mimread(\u001B[38;5;124m'\u001B[39m\u001B[38;5;124mMSNewsImpactOct1.png\u001B[39m\u001B[38;5;124m'\u001B[39m)\n\u001B[1;32m      5\u001B[0m plt\u001B[38;5;241m.\u001B[39mtitle(\u001B[38;5;124m'\u001B[39m\u001B[38;5;124mMS GJR from Volatiltiy Lab\u001B[39m\u001B[38;5;124m'\u001B[39m)\n\u001B[1;32m      6\u001B[0m plt\u001B[38;5;241m.\u001B[39mimshow(img)\n",
      "File \u001B[0;32m~/anaconda3/envs/arch/lib/python3.12/site-packages/matplotlib/pyplot.py:2404\u001B[0m, in \u001B[0;36mimread\u001B[0;34m(fname, format)\u001B[0m\n\u001B[1;32m   2400\u001B[0m \u001B[38;5;129m@_copy_docstring_and_deprecators\u001B[39m(matplotlib\u001B[38;5;241m.\u001B[39mimage\u001B[38;5;241m.\u001B[39mimread)\n\u001B[1;32m   2401\u001B[0m \u001B[38;5;28;01mdef\u001B[39;00m \u001B[38;5;21mimread\u001B[39m(\n\u001B[1;32m   2402\u001B[0m         fname: \u001B[38;5;28mstr\u001B[39m \u001B[38;5;241m|\u001B[39m pathlib\u001B[38;5;241m.\u001B[39mPath \u001B[38;5;241m|\u001B[39m BinaryIO, \u001B[38;5;28mformat\u001B[39m: \u001B[38;5;28mstr\u001B[39m \u001B[38;5;241m|\u001B[39m \u001B[38;5;28;01mNone\u001B[39;00m \u001B[38;5;241m=\u001B[39m \u001B[38;5;28;01mNone\u001B[39;00m\n\u001B[1;32m   2403\u001B[0m ) \u001B[38;5;241m-\u001B[39m\u001B[38;5;241m>\u001B[39m np\u001B[38;5;241m.\u001B[39mndarray:\n\u001B[0;32m-> 2404\u001B[0m     \u001B[38;5;28;01mreturn\u001B[39;00m matplotlib\u001B[38;5;241m.\u001B[39mimage\u001B[38;5;241m.\u001B[39mimread(fname, \u001B[38;5;28mformat\u001B[39m)\n",
      "File \u001B[0;32m~/anaconda3/envs/arch/lib/python3.12/site-packages/matplotlib/image.py:1525\u001B[0m, in \u001B[0;36mimread\u001B[0;34m(fname, format)\u001B[0m\n\u001B[1;32m   1518\u001B[0m \u001B[38;5;28;01mif\u001B[39;00m \u001B[38;5;28misinstance\u001B[39m(fname, \u001B[38;5;28mstr\u001B[39m) \u001B[38;5;129;01mand\u001B[39;00m \u001B[38;5;28mlen\u001B[39m(parse\u001B[38;5;241m.\u001B[39murlparse(fname)\u001B[38;5;241m.\u001B[39mscheme) \u001B[38;5;241m>\u001B[39m \u001B[38;5;241m1\u001B[39m:\n\u001B[1;32m   1519\u001B[0m     \u001B[38;5;66;03m# Pillow doesn't handle URLs directly.\u001B[39;00m\n\u001B[1;32m   1520\u001B[0m     \u001B[38;5;28;01mraise\u001B[39;00m \u001B[38;5;167;01mValueError\u001B[39;00m(\n\u001B[1;32m   1521\u001B[0m         \u001B[38;5;124m\"\u001B[39m\u001B[38;5;124mPlease open the URL for reading and pass the \u001B[39m\u001B[38;5;124m\"\u001B[39m\n\u001B[1;32m   1522\u001B[0m         \u001B[38;5;124m\"\u001B[39m\u001B[38;5;124mresult to Pillow, e.g. with \u001B[39m\u001B[38;5;124m\"\u001B[39m\n\u001B[1;32m   1523\u001B[0m         \u001B[38;5;124m\"\u001B[39m\u001B[38;5;124m``np.array(PIL.Image.open(urllib.request.urlopen(url)))``.\u001B[39m\u001B[38;5;124m\"\u001B[39m\n\u001B[1;32m   1524\u001B[0m         )\n\u001B[0;32m-> 1525\u001B[0m \u001B[38;5;28;01mwith\u001B[39;00m img_open(fname) \u001B[38;5;28;01mas\u001B[39;00m image:\n\u001B[1;32m   1526\u001B[0m     \u001B[38;5;28;01mreturn\u001B[39;00m (_pil_png_to_float_array(image)\n\u001B[1;32m   1527\u001B[0m             \u001B[38;5;28;01mif\u001B[39;00m \u001B[38;5;28misinstance\u001B[39m(image, PIL\u001B[38;5;241m.\u001B[39mPngImagePlugin\u001B[38;5;241m.\u001B[39mPngImageFile) \u001B[38;5;28;01melse\u001B[39;00m\n\u001B[1;32m   1528\u001B[0m             pil_to_array(image))\n",
      "File \u001B[0;32m~/anaconda3/envs/arch/lib/python3.12/site-packages/PIL/ImageFile.py:126\u001B[0m, in \u001B[0;36mImageFile.__init__\u001B[0;34m(self, fp, filename)\u001B[0m\n\u001B[1;32m    122\u001B[0m \u001B[38;5;28mself\u001B[39m\u001B[38;5;241m.\u001B[39mdecodermaxblock \u001B[38;5;241m=\u001B[39m MAXBLOCK\n\u001B[1;32m    124\u001B[0m \u001B[38;5;28;01mif\u001B[39;00m is_path(fp):\n\u001B[1;32m    125\u001B[0m     \u001B[38;5;66;03m# filename\u001B[39;00m\n\u001B[0;32m--> 126\u001B[0m     \u001B[38;5;28mself\u001B[39m\u001B[38;5;241m.\u001B[39mfp \u001B[38;5;241m=\u001B[39m \u001B[38;5;28mopen\u001B[39m(fp, \u001B[38;5;124m\"\u001B[39m\u001B[38;5;124mrb\u001B[39m\u001B[38;5;124m\"\u001B[39m)\n\u001B[1;32m    127\u001B[0m     \u001B[38;5;28mself\u001B[39m\u001B[38;5;241m.\u001B[39mfilename \u001B[38;5;241m=\u001B[39m fp\n\u001B[1;32m    128\u001B[0m     \u001B[38;5;28mself\u001B[39m\u001B[38;5;241m.\u001B[39m_exclusive_fp \u001B[38;5;241m=\u001B[39m \u001B[38;5;28;01mTrue\u001B[39;00m\n",
      "\u001B[0;31mFileNotFoundError\u001B[0m: [Errno 2] No such file or directory: 'MSNewsImpactOct1.png'"
     ]
    },
    {
     "data": {
      "text/plain": [
       "<Figure size 1200x1800 with 0 Axes>"
      ]
     },
     "metadata": {},
     "output_type": "display_data"
    }
   ],
   "execution_count": 14
  },
  {
   "cell_type": "code",
   "source": [
    "conn.close()"
   ],
   "metadata": {
    "collapsed": false,
    "pycharm": {
     "name": "#%%\n"
    }
   },
   "outputs": [],
   "execution_count": null
  },
  {
   "cell_type": "markdown",
   "metadata": {},
   "source": [
    "#### Engle and Ng, \"..Impact of News on Volatility\".\n",
    "\n",
    "A news event $$\\epsilon_{t-1}$$ gives rise to a volatility bump $$h_t$$"
   ]
  },
  {
   "cell_type": "markdown",
   "metadata": {},
   "source": [
    "#### GARCH(1,1)\n",
    "\n",
    "$$h_t = A + \\alpha * \\epsilon_{t-1}^2$$ where $$h_t$$ is the conditional variance at time $t$, $$A = \\omega + \\beta * \\sigma^2$$,\n",
    "and $$\\sigma^2 = \\frac{\\omega}{1 - \\alpha  - \\beta}$$\n",
    "\n",
    "$$h_t(\\epsilon_{t-1})$$ is symmetric around $$\\epsilon_{t-1} = 0$$."
   ]
  },
  {
   "cell_type": "markdown",
   "metadata": {
    "pycharm": {
     "name": "#%% md\n"
    }
   },
   "source": [
    "#### GJR GARCH\n",
    "$$\\sigma^2_t   =  \\omega + \\alpha \\epsilon_{t-1}^2 + \\gamma \\epsilon_{t-1}^2 I_{[\\epsilon_{t-1}<0]}+ \\beta \\sigma_{t-1}^2$$\n",
    "\n",
    "where $I$ is an indicator function that takes the value 1 when its argument is true.The Volatility is mean-reverting, and fluctuates around $$\\sigma$$, the square root of the unconditional variance\n",
    "\n",
    "$$\\sigma^2 = \\frac{\\omega}{1 - \\alpha - \\frac{\\gamma}{2} - \\beta}$$\n",
    "\n",
    "$$h_t = A + \\alpha * \\epsilon_{t-1}^2$$, for $$\\epsilon_{t-1} > 0$$, and\n",
    "\n",
    "$$h_t = A + (\\alpha + \\gamma) * \\epsilon_{t-1}^2$$, for $$\\epsilon_{t-1}^2 < 0$$, and\n",
    "$$ A = \\omega + \\beta*\\sigma^2$$.\n",
    "\n",
    "\n"
   ]
  }
 ],
 "metadata": {
  "kernelspec": {
   "display_name": "Python 3",
   "language": "python",
   "name": "python3"
  },
  "language_info": {
   "codemirror_mode": {
    "name": "ipython",
    "version": 3
   },
   "file_extension": ".py",
   "mimetype": "text/x-python",
   "name": "python",
   "nbconvert_exporter": "python",
   "pygments_lexer": "ipython3",
   "version": "3.8.8"
  }
 },
 "nbformat": 4,
 "nbformat_minor": 1
}
